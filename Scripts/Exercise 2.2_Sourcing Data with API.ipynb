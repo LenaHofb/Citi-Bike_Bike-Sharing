{
 "cells": [
  {
   "cell_type": "markdown",
   "id": "b815e642-a26e-4b18-8f79-21bb0ec1b2fd",
   "metadata": {},
   "source": [
    "# E2 Sourcing data with an API\n",
    "---"
   ]
  },
  {
   "cell_type": "markdown",
   "id": "1dca4719-643f-4d55-a07d-75564377f037",
   "metadata": {},
   "source": [
    "### Import and concatenate"
   ]
  },
  {
   "cell_type": "code",
   "execution_count": 4,
   "id": "0278bfa0-f80c-405d-b9d3-1609c31823f7",
   "metadata": {},
   "outputs": [],
   "source": [
    "#Import Libraries\n",
    "import pandas as pd \n",
    "import numpy as np\n",
    "import os \n",
    "import requests\n",
    "import json\n",
    "from datetime import datetime"
   ]
  },
  {
   "cell_type": "code",
   "execution_count": 6,
   "id": "51ec5248-1ac7-457e-b562-599872163578",
   "metadata": {},
   "outputs": [],
   "source": [
    "# Create a list with all files in the folder using a list compehension\n",
    "\n",
    "folderpath = r\"C:\\Users\\north\\OneDrive\\Dokumente\\Career Foundry\\Data Visualization 2\\Citi-Bike_Bike-Sharing\\Data\\2022-citibike-tripdata\"\n",
    "filepaths  = [os.path.join(folderpath, name) for name in os.listdir(folderpath)]"
   ]
  },
  {
   "cell_type": "code",
   "execution_count": 8,
   "id": "09d883b7-2801-42c9-91d8-2ffc1c4325a6",
   "metadata": {
    "collapsed": true,
    "jupyter": {
     "outputs_hidden": true
    },
    "scrolled": true
   },
   "outputs": [
    {
     "data": {
      "text/plain": [
       "['C:\\\\Users\\\\north\\\\OneDrive\\\\Dokumente\\\\Career Foundry\\\\Data Visualization 2\\\\Citi-Bike_Bike-Sharing\\\\Data\\\\2022-citibike-tripdata\\\\202201-citibike-tripdata_1.csv',\n",
       " 'C:\\\\Users\\\\north\\\\OneDrive\\\\Dokumente\\\\Career Foundry\\\\Data Visualization 2\\\\Citi-Bike_Bike-Sharing\\\\Data\\\\2022-citibike-tripdata\\\\202201-citibike-tripdata_2.csv',\n",
       " 'C:\\\\Users\\\\north\\\\OneDrive\\\\Dokumente\\\\Career Foundry\\\\Data Visualization 2\\\\Citi-Bike_Bike-Sharing\\\\Data\\\\2022-citibike-tripdata\\\\202202-citibike-tripdata_1.csv',\n",
       " 'C:\\\\Users\\\\north\\\\OneDrive\\\\Dokumente\\\\Career Foundry\\\\Data Visualization 2\\\\Citi-Bike_Bike-Sharing\\\\Data\\\\2022-citibike-tripdata\\\\202202-citibike-tripdata_2.csv',\n",
       " 'C:\\\\Users\\\\north\\\\OneDrive\\\\Dokumente\\\\Career Foundry\\\\Data Visualization 2\\\\Citi-Bike_Bike-Sharing\\\\Data\\\\2022-citibike-tripdata\\\\202203-citibike-tripdata_1.csv',\n",
       " 'C:\\\\Users\\\\north\\\\OneDrive\\\\Dokumente\\\\Career Foundry\\\\Data Visualization 2\\\\Citi-Bike_Bike-Sharing\\\\Data\\\\2022-citibike-tripdata\\\\202203-citibike-tripdata_2.csv',\n",
       " 'C:\\\\Users\\\\north\\\\OneDrive\\\\Dokumente\\\\Career Foundry\\\\Data Visualization 2\\\\Citi-Bike_Bike-Sharing\\\\Data\\\\2022-citibike-tripdata\\\\202204-citibike-tripdata_1.csv',\n",
       " 'C:\\\\Users\\\\north\\\\OneDrive\\\\Dokumente\\\\Career Foundry\\\\Data Visualization 2\\\\Citi-Bike_Bike-Sharing\\\\Data\\\\2022-citibike-tripdata\\\\202204-citibike-tripdata_2.csv',\n",
       " 'C:\\\\Users\\\\north\\\\OneDrive\\\\Dokumente\\\\Career Foundry\\\\Data Visualization 2\\\\Citi-Bike_Bike-Sharing\\\\Data\\\\2022-citibike-tripdata\\\\202204-citibike-tripdata_3.csv',\n",
       " 'C:\\\\Users\\\\north\\\\OneDrive\\\\Dokumente\\\\Career Foundry\\\\Data Visualization 2\\\\Citi-Bike_Bike-Sharing\\\\Data\\\\2022-citibike-tripdata\\\\202205-citibike-tripdata_1.csv',\n",
       " 'C:\\\\Users\\\\north\\\\OneDrive\\\\Dokumente\\\\Career Foundry\\\\Data Visualization 2\\\\Citi-Bike_Bike-Sharing\\\\Data\\\\2022-citibike-tripdata\\\\202205-citibike-tripdata_2.csv',\n",
       " 'C:\\\\Users\\\\north\\\\OneDrive\\\\Dokumente\\\\Career Foundry\\\\Data Visualization 2\\\\Citi-Bike_Bike-Sharing\\\\Data\\\\2022-citibike-tripdata\\\\202205-citibike-tripdata_3.csv',\n",
       " 'C:\\\\Users\\\\north\\\\OneDrive\\\\Dokumente\\\\Career Foundry\\\\Data Visualization 2\\\\Citi-Bike_Bike-Sharing\\\\Data\\\\2022-citibike-tripdata\\\\202206-citibike-tripdata_1.csv',\n",
       " 'C:\\\\Users\\\\north\\\\OneDrive\\\\Dokumente\\\\Career Foundry\\\\Data Visualization 2\\\\Citi-Bike_Bike-Sharing\\\\Data\\\\2022-citibike-tripdata\\\\202206-citibike-tripdata_2.csv',\n",
       " 'C:\\\\Users\\\\north\\\\OneDrive\\\\Dokumente\\\\Career Foundry\\\\Data Visualization 2\\\\Citi-Bike_Bike-Sharing\\\\Data\\\\2022-citibike-tripdata\\\\202206-citibike-tripdata_3.csv',\n",
       " 'C:\\\\Users\\\\north\\\\OneDrive\\\\Dokumente\\\\Career Foundry\\\\Data Visualization 2\\\\Citi-Bike_Bike-Sharing\\\\Data\\\\2022-citibike-tripdata\\\\202206-citibike-tripdata_4.csv',\n",
       " 'C:\\\\Users\\\\north\\\\OneDrive\\\\Dokumente\\\\Career Foundry\\\\Data Visualization 2\\\\Citi-Bike_Bike-Sharing\\\\Data\\\\2022-citibike-tripdata\\\\202207-citibike-tripdata_1.csv',\n",
       " 'C:\\\\Users\\\\north\\\\OneDrive\\\\Dokumente\\\\Career Foundry\\\\Data Visualization 2\\\\Citi-Bike_Bike-Sharing\\\\Data\\\\2022-citibike-tripdata\\\\202207-citibike-tripdata_2.csv',\n",
       " 'C:\\\\Users\\\\north\\\\OneDrive\\\\Dokumente\\\\Career Foundry\\\\Data Visualization 2\\\\Citi-Bike_Bike-Sharing\\\\Data\\\\2022-citibike-tripdata\\\\202207-citibike-tripdata_3.csv',\n",
       " 'C:\\\\Users\\\\north\\\\OneDrive\\\\Dokumente\\\\Career Foundry\\\\Data Visualization 2\\\\Citi-Bike_Bike-Sharing\\\\Data\\\\2022-citibike-tripdata\\\\202207-citibike-tripdata_4.csv',\n",
       " 'C:\\\\Users\\\\north\\\\OneDrive\\\\Dokumente\\\\Career Foundry\\\\Data Visualization 2\\\\Citi-Bike_Bike-Sharing\\\\Data\\\\2022-citibike-tripdata\\\\202208-citibike-tripdata_1.csv',\n",
       " 'C:\\\\Users\\\\north\\\\OneDrive\\\\Dokumente\\\\Career Foundry\\\\Data Visualization 2\\\\Citi-Bike_Bike-Sharing\\\\Data\\\\2022-citibike-tripdata\\\\202208-citibike-tripdata_2.csv',\n",
       " 'C:\\\\Users\\\\north\\\\OneDrive\\\\Dokumente\\\\Career Foundry\\\\Data Visualization 2\\\\Citi-Bike_Bike-Sharing\\\\Data\\\\2022-citibike-tripdata\\\\202208-citibike-tripdata_3.csv',\n",
       " 'C:\\\\Users\\\\north\\\\OneDrive\\\\Dokumente\\\\Career Foundry\\\\Data Visualization 2\\\\Citi-Bike_Bike-Sharing\\\\Data\\\\2022-citibike-tripdata\\\\202208-citibike-tripdata_4.csv',\n",
       " 'C:\\\\Users\\\\north\\\\OneDrive\\\\Dokumente\\\\Career Foundry\\\\Data Visualization 2\\\\Citi-Bike_Bike-Sharing\\\\Data\\\\2022-citibike-tripdata\\\\202209-citibike-tripdata_1.csv',\n",
       " 'C:\\\\Users\\\\north\\\\OneDrive\\\\Dokumente\\\\Career Foundry\\\\Data Visualization 2\\\\Citi-Bike_Bike-Sharing\\\\Data\\\\2022-citibike-tripdata\\\\202209-citibike-tripdata_2.csv',\n",
       " 'C:\\\\Users\\\\north\\\\OneDrive\\\\Dokumente\\\\Career Foundry\\\\Data Visualization 2\\\\Citi-Bike_Bike-Sharing\\\\Data\\\\2022-citibike-tripdata\\\\202209-citibike-tripdata_3.csv',\n",
       " 'C:\\\\Users\\\\north\\\\OneDrive\\\\Dokumente\\\\Career Foundry\\\\Data Visualization 2\\\\Citi-Bike_Bike-Sharing\\\\Data\\\\2022-citibike-tripdata\\\\202209-citibike-tripdata_4.csv',\n",
       " 'C:\\\\Users\\\\north\\\\OneDrive\\\\Dokumente\\\\Career Foundry\\\\Data Visualization 2\\\\Citi-Bike_Bike-Sharing\\\\Data\\\\2022-citibike-tripdata\\\\202210-citibike-tripdata_1.csv',\n",
       " 'C:\\\\Users\\\\north\\\\OneDrive\\\\Dokumente\\\\Career Foundry\\\\Data Visualization 2\\\\Citi-Bike_Bike-Sharing\\\\Data\\\\2022-citibike-tripdata\\\\202210-citibike-tripdata_2.csv',\n",
       " 'C:\\\\Users\\\\north\\\\OneDrive\\\\Dokumente\\\\Career Foundry\\\\Data Visualization 2\\\\Citi-Bike_Bike-Sharing\\\\Data\\\\2022-citibike-tripdata\\\\202210-citibike-tripdata_3.csv',\n",
       " 'C:\\\\Users\\\\north\\\\OneDrive\\\\Dokumente\\\\Career Foundry\\\\Data Visualization 2\\\\Citi-Bike_Bike-Sharing\\\\Data\\\\2022-citibike-tripdata\\\\202211-citibike-tripdata_1.csv',\n",
       " 'C:\\\\Users\\\\north\\\\OneDrive\\\\Dokumente\\\\Career Foundry\\\\Data Visualization 2\\\\Citi-Bike_Bike-Sharing\\\\Data\\\\2022-citibike-tripdata\\\\202211-citibike-tripdata_2.csv',\n",
       " 'C:\\\\Users\\\\north\\\\OneDrive\\\\Dokumente\\\\Career Foundry\\\\Data Visualization 2\\\\Citi-Bike_Bike-Sharing\\\\Data\\\\2022-citibike-tripdata\\\\202211-citibike-tripdata_3.csv',\n",
       " 'C:\\\\Users\\\\north\\\\OneDrive\\\\Dokumente\\\\Career Foundry\\\\Data Visualization 2\\\\Citi-Bike_Bike-Sharing\\\\Data\\\\2022-citibike-tripdata\\\\202212-citibike-tripdata_1.csv',\n",
       " 'C:\\\\Users\\\\north\\\\OneDrive\\\\Dokumente\\\\Career Foundry\\\\Data Visualization 2\\\\Citi-Bike_Bike-Sharing\\\\Data\\\\2022-citibike-tripdata\\\\202212-citibike-tripdata_2.csv',\n",
       " 'C:\\\\Users\\\\north\\\\OneDrive\\\\Dokumente\\\\Career Foundry\\\\Data Visualization 2\\\\Citi-Bike_Bike-Sharing\\\\Data\\\\2022-citibike-tripdata\\\\libopenblas64__v0.3.23-293-gc2f4bdbb-gcc_10_3_0-2bde3a66a51006b2b53eb373ff767a3f.dll']"
      ]
     },
     "execution_count": 8,
     "metadata": {},
     "output_type": "execute_result"
    }
   ],
   "source": [
    "filepaths"
   ]
  },
  {
   "cell_type": "code",
   "execution_count": 12,
   "id": "3e9ce282-5808-47b6-8abd-a95d3f37814c",
   "metadata": {},
   "outputs": [
    {
     "name": "stdout",
     "output_type": "stream",
     "text": [
      "{'encoding': 'ascii', 'confidence': 1.0, 'language': ''}\n"
     ]
    }
   ],
   "source": [
    "import chardet\n",
    "\n",
    "# Detect the encoding of the first file\n",
    "with open(filepaths[0], 'rb') as f:\n",
    "    result = chardet.detect(f.read())\n",
    "    print(result)"
   ]
  },
  {
   "cell_type": "code",
   "execution_count": null,
   "id": "3b8cceb2-3547-4a70-a859-1e359ed0822e",
   "metadata": {},
   "outputs": [],
   "source": [
    "dfs = []\n",
    "for f in filepaths:\n",
    "    with open(f, mode='r', encoding='ascii', errors='replace') as file:\n",
    "        dfs.append(pd.read_csv(file, low_memory=False, on_bad_lines='skip'))  # Use on_bad_lines='skip'\n",
    "\n",
    "df = pd.concat(dfs, ignore_index=True)\n",
    "\n"
   ]
  },
  {
   "cell_type": "code",
   "execution_count": null,
   "id": "3f536b4c-07e1-4ec2-975d-cca0249d6e7f",
   "metadata": {},
   "outputs": [],
   "source": []
  },
  {
   "cell_type": "code",
   "execution_count": null,
   "id": "71f9c579-4a8c-48b1-ac0d-7252e6ec8e26",
   "metadata": {},
   "outputs": [],
   "source": [
    "df.shape"
   ]
  },
  {
   "cell_type": "code",
   "execution_count": null,
   "id": "d89f6d7c-3cf7-4982-8efb-362715613511",
   "metadata": {},
   "outputs": [],
   "source": [
    "df.head()"
   ]
  },
  {
   "cell_type": "code",
   "execution_count": null,
   "id": "1faa7de3-9c56-4fd1-808a-98743f5c45c5",
   "metadata": {},
   "outputs": [],
   "source": [
    "df.tail()"
   ]
  },
  {
   "cell_type": "markdown",
   "id": "20b22f5a-bb48-4c48-b7c5-0c04edb3989b",
   "metadata": {},
   "source": [
    "### Explanation:\n",
    "#### Step 1\n",
    "\n",
    "- The `os.listdir(folderpath)` function retrieves the list of all file names in the specified folder.\n",
    "- The list comprehension `[os.path.join(folderpath, name) for name in os.listdir(folderpath)]` loops through these file names and combines them with the folder path using `os.path.join()`, creating full file paths.\n",
    "- The result is a list, `filepaths`, that contains the paths to all CSV files in the folder. This allows easy iteration over the files for further processing.\n"
   ]
  },
  {
   "cell_type": "markdown",
   "id": "0f1fd03c-da5f-448e-ba42-0b12e1c441c6",
   "metadata": {},
   "source": [
    "#### Step 2\n",
    "\n",
    "#### Generator Expression:\n",
    "- `(pd.read_csv(f, low_memory=False) for f in filepaths)` is a generator expression.\n",
    "- It iterates over the list of file paths (`filepaths`) and reads each file into a pandas DataFrame using `pd.read_csv()`.\n",
    "- The `low_memory=False` parameter ensures that `pandas` processes the entire column at once, avoiding `DtypeWarning` when columns have mixed data types.\n",
    "- Using a generator instead of a list comprehension (square brackets) avoids loading all files into memory at once, making the operation memory-efficient.\n",
    "\n",
    "#### Combining DataFrames:\n",
    "- The `pd.concat()` function combines all the DataFrames returned by the generator into a single DataFrame, `df`.\n",
    "- By default, `pd.concat()` combines the data vertically, assuming the same column structure across all files.\n",
    "\n",
    "#### Resetting Index:\n",
    "- The `ignore_index=True` parameter ensures that the resulting DataFrame's row indices are reset and continuous, rather than retaining the original indices from individual files.\n",
    "---\n"
   ]
  },
  {
   "cell_type": "markdown",
   "id": "74df4fad-295d-4bc6-9b60-c6a845df610c",
   "metadata": {},
   "source": [
    "### Get weather data using NOAA's API"
   ]
  },
  {
   "cell_type": "code",
   "execution_count": null,
   "id": "f814e22e-4b3b-4658-8ab0-ef632a49b482",
   "metadata": {},
   "outputs": [],
   "source": [
    "# Define NOAA token\n",
    "\n",
    "Token = 'jrNumxHPxRYVkyaLjRyFPrAZdcNpvAoB'"
   ]
  },
  {
   "cell_type": "code",
   "execution_count": null,
   "id": "cc744d12-1bf7-4129-9869-ea41fd33233d",
   "metadata": {},
   "outputs": [],
   "source": [
    "# Specify the parameters\n",
    "base_url = 'https://www.ncdc.noaa.gov/cdo-web/api/v2/data?'\n",
    "params = {\n",
    "    \"datasetid\": \"GHCND\",           # Global Historical Climatology Network Daily\n",
    "    \"datatypeid\": \"TAVG\",           # Average temperature\n",
    "    \"limit\": 1000,                  # Maximum items per request\n",
    "    \"stationid\": \"GHCND:USW00014732\", # Station ID for LaGuardia Airport\n",
    "    \"startdate\": \"2022-01-01\",      # Start date\n",
    "    \"enddate\": \"2022-12-31\"         # End date\n",
    "}\n",
    "\n",
    "# Construct the API request URL\n",
    "request_url = (f\"{base_url}datasetid={params['datasetid']}&datatypeid={params['datatypeid']}&limit={params['limit']}&\"\n",
    "               f\"stationid={params['stationid']}&startdate={params['startdate']}&enddate={params['enddate']}\")\n",
    "\n",
    "# Print the request URL for verification\n",
    "print(f\"Request URL: {request_url}\")"
   ]
  },
  {
   "cell_type": "code",
   "execution_count": null,
   "id": "204f06d4-48df-4ffa-b9eb-2f1bfb37d46d",
   "metadata": {
    "scrolled": true
   },
   "outputs": [],
   "source": [
    "# Make the API request\n",
    "r = requests.get(request_url, headers={'token': Token})\n",
    "\n",
    "# Load the API response as JSON\n",
    "d = json.loads(r.text)\n"
   ]
  },
  {
   "cell_type": "code",
   "execution_count": null,
   "id": "67a3e8de-51b2-4946-a19f-0d87bbd43509",
   "metadata": {
    "scrolled": true
   },
   "outputs": [],
   "source": [
    "d"
   ]
  },
  {
   "cell_type": "code",
   "execution_count": null,
   "id": "be42a9d4-e789-4f34-9972-cff7c689b407",
   "metadata": {},
   "outputs": [],
   "source": [
    "# Filter results for average temperature (TAVG)\n",
    "avg_temps = [item for item in d['results'] if item['datatype'] == 'TAVG']\n",
    "\n",
    "# Extract dates and temperatures from the filtered results\n",
    "dates_temp = [item['date'] for item in avg_temps]\n",
    "temps = [item['value'] for item in avg_temps]\n"
   ]
  },
  {
   "cell_type": "code",
   "execution_count": null,
   "id": "a57f452d-57ca-49a7-a1c8-822413b900ac",
   "metadata": {
    "scrolled": true
   },
   "outputs": [],
   "source": [
    "temps"
   ]
  },
  {
   "cell_type": "code",
   "execution_count": null,
   "id": "706ed54a-4d66-46b8-9af1-16b27189eaec",
   "metadata": {},
   "outputs": [],
   "source": [
    "# Convert temperature values from tenths of Celsius to normal Celsius\n",
    "temps_celsius = [temp / 10.0 for temp in temps]\n",
    "\n",
    "# Convert date strings to `datetime.date` objects for consistency\n",
    "dates = [datetime.strptime(date, \"%Y-%m-%dT%H:%M:%S\").date() for date in dates_temp]"
   ]
  },
  {
   "cell_type": "code",
   "execution_count": null,
   "id": "9b83b8b1-2fed-49b4-9fac-d7fc28521842",
   "metadata": {},
   "outputs": [],
   "source": [
    "# Create a DataFrame from the extracted data\n",
    "df_temps = pd.DataFrame({\n",
    "    \"date\": dates,\n",
    "    \"avg_temp\": temps_celsius\n",
    "})"
   ]
  },
  {
   "cell_type": "code",
   "execution_count": null,
   "id": "8f30e438-6ae6-4417-b4e2-702d51714487",
   "metadata": {},
   "outputs": [],
   "source": [
    "# Inspect the resulting DataFrame\n",
    "print(df_temps.head(10))\n",
    "print(df_temps.tail(10))"
   ]
  },
  {
   "cell_type": "code",
   "execution_count": null,
   "id": "2e22dc04-9736-4e8c-b99e-e6b875e19033",
   "metadata": {},
   "outputs": [],
   "source": [
    " df.dtypes"
   ]
  },
  {
   "cell_type": "code",
   "execution_count": null,
   "id": "fb5c9c21-3690-4f09-887b-2a750550b8d5",
   "metadata": {},
   "outputs": [],
   "source": [
    "df_temps.dtypes"
   ]
  },
  {
   "cell_type": "code",
   "execution_count": null,
   "id": "8e4a07ed-43c6-41b9-9326-894ccfdeadd2",
   "metadata": {},
   "outputs": [],
   "source": [
    "df['date'] = pd.to_datetime(df['date'], dayfirst=True)\n",
    "df_temps['date'] = pd.to_datetime(df_temps['date'], dayfirst=True)\n"
   ]
  },
  {
   "cell_type": "code",
   "execution_count": null,
   "id": "4860b68a-4831-4b8e-b648-bcb2615ba606",
   "metadata": {},
   "outputs": [],
   "source": [
    "df['start_date'] = pd.to_datetime(df['start_date'], dayfirst=True)\n",
    "df['end_date'] = pd.to_datetime(df['end_date'], dayfirst=True)\n"
   ]
  },
  {
   "cell_type": "code",
   "execution_count": null,
   "id": "9d87f727-3efc-465d-b85f-013d24da846b",
   "metadata": {},
   "outputs": [],
   "source": [
    "df['start_time'] = pd.to_datetime(df['start_time'], format='%H:%M:%S.%f', errors='coerce').dt.time\n",
    "df['end_time'] = pd.to_datetime(df['end_time'], format='%H:%M:%S.%f', errors='coerce').dt.time\n"
   ]
  },
  {
   "cell_type": "code",
   "execution_count": null,
   "id": "c028933f-4fcb-46fb-9599-8966084f2405",
   "metadata": {},
   "outputs": [],
   "source": [
    "df.dtypes"
   ]
  },
  {
   "cell_type": "code",
   "execution_count": null,
   "id": "6814d840-c190-4203-b362-d9bbd6099244",
   "metadata": {},
   "outputs": [],
   "source": [
    "df_temps.dtypes"
   ]
  },
  {
   "cell_type": "code",
   "execution_count": null,
   "id": "402cb88f-af4d-4efe-9987-bacb3b31fbe0",
   "metadata": {},
   "outputs": [],
   "source": [
    "df_temps.head()"
   ]
  },
  {
   "cell_type": "code",
   "execution_count": null,
   "id": "3df85b24-0c6b-433b-860c-65804fe4408a",
   "metadata": {},
   "outputs": [],
   "source": [
    "df.head()"
   ]
  },
  {
   "cell_type": "code",
   "execution_count": null,
   "id": "ea2e61c4-871e-4804-b0b7-db36024b2fa1",
   "metadata": {},
   "outputs": [],
   "source": [
    "# Export df_temps to a CSV file\n",
    "output_path = r'C:\\Users\\north\\OneDrive\\Dokumente\\Career Foundry\\Data Visualization 2\\Citi-Bike_Bike-Sharing\\Data\\df_temps.csv'\n",
    "df_temps.to_csv(output_path, index=False)\n",
    "\n",
    "print(f\"DataFrame exported to '{output_path}'.\")"
   ]
  },
  {
   "cell_type": "code",
   "execution_count": null,
   "id": "deb24a7e-17d1-4b41-9877-f6775b5ca7a5",
   "metadata": {},
   "outputs": [],
   "source": [
    "%%time\n",
    "df_merged = df.merge(df_temps, how='left', on='date', indicator=True)"
   ]
  },
  {
   "cell_type": "code",
   "execution_count": null,
   "id": "96baee38-41a8-4771-a49c-a18dca08198b",
   "metadata": {},
   "outputs": [],
   "source": [
    "df_merged.head()"
   ]
  },
  {
   "cell_type": "code",
   "execution_count": null,
   "id": "aa832611-cc5d-49fd-8dfe-b424b6664f85",
   "metadata": {},
   "outputs": [],
   "source": [
    "df_merged['_merge'].value_counts(dropna = False)"
   ]
  },
  {
   "cell_type": "code",
   "execution_count": null,
   "id": "8df36ed3-63f1-479f-afc9-40346650c548",
   "metadata": {},
   "outputs": [],
   "source": [
    "# Export to CSV\n",
    "output_path = r'C:\\Users\\north\\OneDrive\\Dokumente\\Career Foundry\\Data Visualization 2\\Citi-Bike_Bike-Sharing\\Data\\merged_citibike_weather.csv'\n",
    "df_merged.to_csv(output_path, index=False)\n",
    "\n",
    "print(f\"Merged DataFrame exported to '{output_path}'.\")"
   ]
  },
  {
   "cell_type": "code",
   "execution_count": null,
   "id": "2c9714ab-fac8-4618-8975-a03b789bb904",
   "metadata": {},
   "outputs": [],
   "source": []
  }
 ],
 "metadata": {
  "kernelspec": {
   "display_name": "Python (citibike)",
   "language": "python",
   "name": "citibike"
  },
  "language_info": {
   "codemirror_mode": {
    "name": "ipython",
    "version": 3
   },
   "file_extension": ".py",
   "mimetype": "text/x-python",
   "name": "python",
   "nbconvert_exporter": "python",
   "pygments_lexer": "ipython3",
   "version": "3.9.20"
  }
 },
 "nbformat": 4,
 "nbformat_minor": 5
}

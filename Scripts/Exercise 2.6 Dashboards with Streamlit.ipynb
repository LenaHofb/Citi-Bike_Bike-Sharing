{
 "cells": [
  {
   "cell_type": "markdown",
   "id": "862f03ee-4967-44f7-8bed-c9e7278cf0b3",
   "metadata": {},
   "source": [
    "## Exercise 2.6 - Building dashboards with streamlit"
   ]
  },
  {
   "cell_type": "code",
   "execution_count": 1,
   "id": "f1e04d4f-71aa-4984-b1d9-f154e34f99fb",
   "metadata": {
    "tags": []
   },
   "outputs": [],
   "source": [
    "# Import Libraries\n",
    "import streamlit as st\n",
    "import pandas as pd\n",
    "import numpy as np\n",
    "import plotly.express as px\n",
    "from plotly.subplots import make_subplots\n",
    "import plotly.graph_objects as go\n",
    "import matplotlib.pyplot as plt\n",
    "from datetime import datetime as dt\n",
    "from streamlit_keplergl import keplergl_static"
   ]
  },
  {
   "cell_type": "markdown",
   "id": "3f7ae4f7-4936-41cc-ba84-2acd9fa1242f",
   "metadata": {},
   "source": [
    "### Wrangle Data"
   ]
  },
  {
   "cell_type": "code",
   "execution_count": 3,
   "id": "7b220566-0915-4721-807f-7ec722b8a258",
   "metadata": {
    "tags": []
   },
   "outputs": [],
   "source": [
    "# Load the dataset\n",
    "file_path = r\"C:\\Users\\north\\OneDrive\\Dokumente\\Career Foundry\\Data Visualization 2\\Citi-Bike_Bike-Sharing\\Data\\Prepared Data\\merged_citibike_weather.csv\"\n",
    "df = pd.read_csv(file_path, low_memory=False)\n"
   ]
  },
  {
   "cell_type": "code",
   "execution_count": 4,
   "id": "d978df88-fcfe-4281-9163-a5f459098776",
   "metadata": {
    "tags": []
   },
   "outputs": [
    {
     "data": {
      "text/plain": [
       "ride_id                object\n",
       "rideable_type          object\n",
       "started_at             object\n",
       "ended_at               object\n",
       "start_station_name     object\n",
       "start_station_id       object\n",
       "end_station_name       object\n",
       "end_station_id         object\n",
       "start_lat             float64\n",
       "start_lng             float64\n",
       "end_lat               float64\n",
       "end_lng               float64\n",
       "member_casual          object\n",
       "start_date             object\n",
       "start_time             object\n",
       "end_date               object\n",
       "end_time               object\n",
       "date                   object\n",
       "avg_temp              float64\n",
       "_merge                 object\n",
       "dtype: object"
      ]
     },
     "execution_count": 4,
     "metadata": {},
     "output_type": "execute_result"
    }
   ],
   "source": [
    "df.dtypes"
   ]
  },
  {
   "cell_type": "code",
   "execution_count": 5,
   "id": "b8d36cef-e114-420c-a830-619640374b8d",
   "metadata": {
    "tags": []
   },
   "outputs": [
    {
     "data": {
      "text/html": [
       "<div>\n",
       "<style scoped>\n",
       "    .dataframe tbody tr th:only-of-type {\n",
       "        vertical-align: middle;\n",
       "    }\n",
       "\n",
       "    .dataframe tbody tr th {\n",
       "        vertical-align: top;\n",
       "    }\n",
       "\n",
       "    .dataframe thead th {\n",
       "        text-align: right;\n",
       "    }\n",
       "</style>\n",
       "<table border=\"1\" class=\"dataframe\">\n",
       "  <thead>\n",
       "    <tr style=\"text-align: right;\">\n",
       "      <th></th>\n",
       "      <th>ride_id</th>\n",
       "      <th>rideable_type</th>\n",
       "      <th>started_at</th>\n",
       "      <th>ended_at</th>\n",
       "      <th>start_station_name</th>\n",
       "      <th>start_station_id</th>\n",
       "      <th>end_station_name</th>\n",
       "      <th>end_station_id</th>\n",
       "      <th>start_lat</th>\n",
       "      <th>start_lng</th>\n",
       "      <th>end_lat</th>\n",
       "      <th>end_lng</th>\n",
       "      <th>member_casual</th>\n",
       "      <th>start_date</th>\n",
       "      <th>start_time</th>\n",
       "      <th>end_date</th>\n",
       "      <th>end_time</th>\n",
       "      <th>date</th>\n",
       "      <th>avg_temp</th>\n",
       "      <th>_merge</th>\n",
       "    </tr>\n",
       "  </thead>\n",
       "  <tbody>\n",
       "    <tr>\n",
       "      <th>0</th>\n",
       "      <td>70F3BA79664016C1</td>\n",
       "      <td>classic_bike</td>\n",
       "      <td>2022-02-28 09:22:49.821</td>\n",
       "      <td>2022-02-28 09:28:55.174</td>\n",
       "      <td>9 Ave &amp; W 18 St</td>\n",
       "      <td>6190.08</td>\n",
       "      <td>Greenwich Ave &amp; Charles St</td>\n",
       "      <td>5914.08</td>\n",
       "      <td>40.743174</td>\n",
       "      <td>-74.003664</td>\n",
       "      <td>40.735238</td>\n",
       "      <td>-74.000271</td>\n",
       "      <td>member</td>\n",
       "      <td>2022-02-28</td>\n",
       "      <td>09:22:49.821000</td>\n",
       "      <td>2022-02-28</td>\n",
       "      <td>09:28:55.174000</td>\n",
       "      <td>2022-02-28</td>\n",
       "      <td>0.8</td>\n",
       "      <td>both</td>\n",
       "    </tr>\n",
       "    <tr>\n",
       "      <th>1</th>\n",
       "      <td>8FA3412A958122D0</td>\n",
       "      <td>electric_bike</td>\n",
       "      <td>2022-02-14 10:47:30.462</td>\n",
       "      <td>2022-02-14 10:56:04.433</td>\n",
       "      <td>W 120 St &amp; Claremont Ave</td>\n",
       "      <td>7745.07</td>\n",
       "      <td>Frederick Douglass Blvd &amp; W 117 St</td>\n",
       "      <td>7688.12</td>\n",
       "      <td>40.810949</td>\n",
       "      <td>-73.963400</td>\n",
       "      <td>40.805159</td>\n",
       "      <td>-73.954692</td>\n",
       "      <td>member</td>\n",
       "      <td>2022-02-14</td>\n",
       "      <td>10:47:30.462000</td>\n",
       "      <td>2022-02-14</td>\n",
       "      <td>10:56:04.433000</td>\n",
       "      <td>2022-02-14</td>\n",
       "      <td>-4.3</td>\n",
       "      <td>both</td>\n",
       "    </tr>\n",
       "    <tr>\n",
       "      <th>2</th>\n",
       "      <td>0E2BA02AEAD03EB8</td>\n",
       "      <td>electric_bike</td>\n",
       "      <td>2022-02-18 22:26:55.796</td>\n",
       "      <td>2022-02-18 22:44:31.472</td>\n",
       "      <td>E 4 St &amp; 2 Ave</td>\n",
       "      <td>5593.04</td>\n",
       "      <td>Greenwich Ave &amp; Charles St</td>\n",
       "      <td>5914.08</td>\n",
       "      <td>40.726281</td>\n",
       "      <td>-73.989780</td>\n",
       "      <td>40.735238</td>\n",
       "      <td>-74.000271</td>\n",
       "      <td>member</td>\n",
       "      <td>2022-02-18</td>\n",
       "      <td>22:26:55.796000</td>\n",
       "      <td>2022-02-18</td>\n",
       "      <td>22:44:31.472000</td>\n",
       "      <td>2022-02-18</td>\n",
       "      <td>9.9</td>\n",
       "      <td>both</td>\n",
       "    </tr>\n",
       "    <tr>\n",
       "      <th>3</th>\n",
       "      <td>B626F8E1D7ABABBA</td>\n",
       "      <td>classic_bike</td>\n",
       "      <td>2022-02-09 18:38:18.621</td>\n",
       "      <td>2022-02-09 18:47:11.274</td>\n",
       "      <td>White St &amp; Johnson Ave</td>\n",
       "      <td>5099.03</td>\n",
       "      <td>Irving Ave &amp; Harman St</td>\n",
       "      <td>4856.05</td>\n",
       "      <td>40.707174</td>\n",
       "      <td>-73.935810</td>\n",
       "      <td>40.701080</td>\n",
       "      <td>-73.917900</td>\n",
       "      <td>member</td>\n",
       "      <td>2022-02-09</td>\n",
       "      <td>18:38:18.621000</td>\n",
       "      <td>2022-02-09</td>\n",
       "      <td>18:47:11.274000</td>\n",
       "      <td>2022-02-09</td>\n",
       "      <td>2.8</td>\n",
       "      <td>both</td>\n",
       "    </tr>\n",
       "    <tr>\n",
       "      <th>4</th>\n",
       "      <td>605E7CC493D08F3B</td>\n",
       "      <td>electric_bike</td>\n",
       "      <td>2022-02-06 14:52:48.564</td>\n",
       "      <td>2022-02-06 14:55:56.218</td>\n",
       "      <td>S Portland Ave &amp; Hanson Pl</td>\n",
       "      <td>4354.05</td>\n",
       "      <td>Nevins St &amp; Schermerhorn St</td>\n",
       "      <td>4437.09</td>\n",
       "      <td>40.685396</td>\n",
       "      <td>-73.974315</td>\n",
       "      <td>40.687372</td>\n",
       "      <td>-73.981761</td>\n",
       "      <td>member</td>\n",
       "      <td>2022-02-06</td>\n",
       "      <td>14:52:48.564000</td>\n",
       "      <td>2022-02-06</td>\n",
       "      <td>14:55:56.218000</td>\n",
       "      <td>2022-02-06</td>\n",
       "      <td>-4.8</td>\n",
       "      <td>both</td>\n",
       "    </tr>\n",
       "  </tbody>\n",
       "</table>\n",
       "</div>"
      ],
      "text/plain": [
       "            ride_id  rideable_type               started_at  \\\n",
       "0  70F3BA79664016C1   classic_bike  2022-02-28 09:22:49.821   \n",
       "1  8FA3412A958122D0  electric_bike  2022-02-14 10:47:30.462   \n",
       "2  0E2BA02AEAD03EB8  electric_bike  2022-02-18 22:26:55.796   \n",
       "3  B626F8E1D7ABABBA   classic_bike  2022-02-09 18:38:18.621   \n",
       "4  605E7CC493D08F3B  electric_bike  2022-02-06 14:52:48.564   \n",
       "\n",
       "                  ended_at          start_station_name start_station_id  \\\n",
       "0  2022-02-28 09:28:55.174             9 Ave & W 18 St          6190.08   \n",
       "1  2022-02-14 10:56:04.433    W 120 St & Claremont Ave          7745.07   \n",
       "2  2022-02-18 22:44:31.472              E 4 St & 2 Ave          5593.04   \n",
       "3  2022-02-09 18:47:11.274      White St & Johnson Ave          5099.03   \n",
       "4  2022-02-06 14:55:56.218  S Portland Ave & Hanson Pl          4354.05   \n",
       "\n",
       "                     end_station_name end_station_id  start_lat  start_lng  \\\n",
       "0          Greenwich Ave & Charles St        5914.08  40.743174 -74.003664   \n",
       "1  Frederick Douglass Blvd & W 117 St        7688.12  40.810949 -73.963400   \n",
       "2          Greenwich Ave & Charles St        5914.08  40.726281 -73.989780   \n",
       "3              Irving Ave & Harman St        4856.05  40.707174 -73.935810   \n",
       "4         Nevins St & Schermerhorn St        4437.09  40.685396 -73.974315   \n",
       "\n",
       "     end_lat    end_lng member_casual  start_date       start_time  \\\n",
       "0  40.735238 -74.000271        member  2022-02-28  09:22:49.821000   \n",
       "1  40.805159 -73.954692        member  2022-02-14  10:47:30.462000   \n",
       "2  40.735238 -74.000271        member  2022-02-18  22:26:55.796000   \n",
       "3  40.701080 -73.917900        member  2022-02-09  18:38:18.621000   \n",
       "4  40.687372 -73.981761        member  2022-02-06  14:52:48.564000   \n",
       "\n",
       "     end_date         end_time        date  avg_temp _merge  \n",
       "0  2022-02-28  09:28:55.174000  2022-02-28       0.8   both  \n",
       "1  2022-02-14  10:56:04.433000  2022-02-14      -4.3   both  \n",
       "2  2022-02-18  22:44:31.472000  2022-02-18       9.9   both  \n",
       "3  2022-02-09  18:47:11.274000  2022-02-09       2.8   both  \n",
       "4  2022-02-06  14:55:56.218000  2022-02-06      -4.8   both  "
      ]
     },
     "execution_count": 5,
     "metadata": {},
     "output_type": "execute_result"
    }
   ],
   "source": [
    "df.head()"
   ]
  },
  {
   "cell_type": "code",
   "execution_count": 6,
   "id": "be2d27d5-35b9-43a8-80c7-84f9ed58365a",
   "metadata": {
    "tags": []
   },
   "outputs": [],
   "source": [
    "df['started_at'] = pd.to_datetime(df['started_at'])\n",
    "df['ended_at'] = pd.to_datetime(df['ended_at'])\n",
    "df['start_date'] = pd.to_datetime(df['start_date'])\n",
    "df['end_date'] = pd.to_datetime(df['end_date'])\n",
    "df['date'] = pd.to_datetime(df['date'])\n",
    "\n",
    "df['start_time'] = pd.to_datetime(df['start_time']).dt.time\n",
    "df['end_time'] = pd.to_datetime(df['end_time']).dt.time\n"
   ]
  },
  {
   "cell_type": "code",
   "execution_count": 7,
   "id": "37be651d-7859-43ea-af2e-32004a22b581",
   "metadata": {
    "tags": []
   },
   "outputs": [],
   "source": [
    "df['ride_id'] = df['ride_id'].astype('category')\n",
    "df['rideable_type'] = df['rideable_type'].astype('category')\n",
    "df['member_casual'] = df['member_casual'].astype('category')\n",
    "\n",
    "df['_merge'] = df['_merge'].astype('category')"
   ]
  },
  {
   "cell_type": "code",
   "execution_count": 8,
   "id": "36fb65b4-f140-45bd-8d92-c7c12944aae4",
   "metadata": {
    "tags": []
   },
   "outputs": [],
   "source": [
    "# Save a backup of the original file\n",
    "backup_file_path = file_path.replace('.csv', '_backup.csv')\n",
    "df.to_csv(backup_file_path, index=False)\n",
    "\n",
    "# Save the updated file\n",
    "df.to_csv(file_path, index=False)"
   ]
  },
  {
   "cell_type": "markdown",
   "id": "d5959e1f-e6c2-4272-8605-facf44b591b5",
   "metadata": {},
   "source": [
    "### Create the plotly charts"
   ]
  },
  {
   "cell_type": "code",
   "execution_count": 9,
   "id": "7ca4fae4-50f3-4456-a450-744507376306",
   "metadata": {
    "tags": []
   },
   "outputs": [],
   "source": [
    "# Add a column to count trips\n",
    "df['value'] = 1\n",
    "\n",
    "# Group data by start station name and calculate the number of trips\n",
    "df_groupby = df.groupby('start_station_name', as_index=False).agg({'value': 'sum'})\n",
    "\n",
    "# Get the top 20 stations with the highest trip counts\n",
    "top20 = df_groupby.nlargest(20, 'value')\n"
   ]
  },
  {
   "cell_type": "code",
   "execution_count": 12,
   "id": "82d21b71-4bd1-4aaa-a9e3-192b90ce9607",
   "metadata": {
    "tags": []
   },
   "outputs": [
    {
     "data": {
      "application/vnd.plotly.v1+json": {
       "config": {
        "plotlyServerURL": "https://plot.ly"
       },
       "data": [
        {
         "marker": {
          "color": [
           123172,
           120412,
           110362,
           103202,
           99892,
           95660,
           95482,
           92972,
           91701,
           91125,
           88838,
           87522,
           87055,
           86203,
           85349,
           84714,
           84658,
           84033,
           82707,
           81252
          ],
          "colorscale": [
           [
            0,
            "#66c2a5"
           ],
           [
            1,
            "#3288bd"
           ]
          ]
         },
         "type": "bar",
         "x": [
          "W 21 St & 6 Ave",
          "West St & Chambers St",
          "Broadway & W 58 St",
          "6 Ave & W 33 St",
          "1 Ave & E 68 St",
          "Broadway & E 14 St",
          "Broadway & W 25 St",
          "University Pl & E 14 St",
          "Broadway & E 21 St",
          "W 31 St & 7 Ave",
          "12 Ave & W 40 St",
          "Cleveland Pl & Spring St",
          "E 33 St & 1 Ave",
          "6 Ave & W 34 St",
          "West St & Liberty St",
          "Central Park S & 6 Ave",
          "Lafayette St & E 8 St",
          "11 Ave & W 41 St",
          "E 40 St & Park Ave",
          "8 Ave & W 33 St"
         ],
         "y": [
          123172,
          120412,
          110362,
          103202,
          99892,
          95660,
          95482,
          92972,
          91701,
          91125,
          88838,
          87522,
          87055,
          86203,
          85349,
          84714,
          84658,
          84033,
          82707,
          81252
         ]
        }
       ],
       "layout": {
        "height": 500,
        "template": {
         "data": {
          "candlestick": [
           {
            "decreasing": {
             "line": {
              "color": "#000033"
             }
            },
            "increasing": {
             "line": {
              "color": "#000032"
             }
            },
            "type": "candlestick"
           }
          ],
          "contour": [
           {
            "colorscale": [
             [
              0,
              "#000011"
             ],
             [
              0.1111111111111111,
              "#000012"
             ],
             [
              0.2222222222222222,
              "#000013"
             ],
             [
              0.3333333333333333,
              "#000014"
             ],
             [
              0.4444444444444444,
              "#000015"
             ],
             [
              0.5555555555555556,
              "#000016"
             ],
             [
              0.6666666666666666,
              "#000017"
             ],
             [
              0.7777777777777778,
              "#000018"
             ],
             [
              0.8888888888888888,
              "#000019"
             ],
             [
              1,
              "#000020"
             ]
            ],
            "type": "contour"
           }
          ],
          "contourcarpet": [
           {
            "colorscale": [
             [
              0,
              "#000011"
             ],
             [
              0.1111111111111111,
              "#000012"
             ],
             [
              0.2222222222222222,
              "#000013"
             ],
             [
              0.3333333333333333,
              "#000014"
             ],
             [
              0.4444444444444444,
              "#000015"
             ],
             [
              0.5555555555555556,
              "#000016"
             ],
             [
              0.6666666666666666,
              "#000017"
             ],
             [
              0.7777777777777778,
              "#000018"
             ],
             [
              0.8888888888888888,
              "#000019"
             ],
             [
              1,
              "#000020"
             ]
            ],
            "type": "contourcarpet"
           }
          ],
          "heatmap": [
           {
            "colorscale": [
             [
              0,
              "#000011"
             ],
             [
              0.1111111111111111,
              "#000012"
             ],
             [
              0.2222222222222222,
              "#000013"
             ],
             [
              0.3333333333333333,
              "#000014"
             ],
             [
              0.4444444444444444,
              "#000015"
             ],
             [
              0.5555555555555556,
              "#000016"
             ],
             [
              0.6666666666666666,
              "#000017"
             ],
             [
              0.7777777777777778,
              "#000018"
             ],
             [
              0.8888888888888888,
              "#000019"
             ],
             [
              1,
              "#000020"
             ]
            ],
            "type": "heatmap"
           }
          ],
          "histogram2d": [
           {
            "colorscale": [
             [
              0,
              "#000011"
             ],
             [
              0.1111111111111111,
              "#000012"
             ],
             [
              0.2222222222222222,
              "#000013"
             ],
             [
              0.3333333333333333,
              "#000014"
             ],
             [
              0.4444444444444444,
              "#000015"
             ],
             [
              0.5555555555555556,
              "#000016"
             ],
             [
              0.6666666666666666,
              "#000017"
             ],
             [
              0.7777777777777778,
              "#000018"
             ],
             [
              0.8888888888888888,
              "#000019"
             ],
             [
              1,
              "#000020"
             ]
            ],
            "type": "histogram2d"
           }
          ],
          "icicle": [
           {
            "textfont": {
             "color": "white"
            },
            "type": "icicle"
           }
          ],
          "sankey": [
           {
            "textfont": {
             "color": "#000036"
            },
            "type": "sankey"
           }
          ],
          "scatter": [
           {
            "marker": {
             "line": {
              "width": 0
             }
            },
            "type": "scatter"
           }
          ],
          "table": [
           {
            "cells": {
             "fill": {
              "color": "#000038"
             },
             "font": {
              "color": "#000037"
             },
             "line": {
              "color": "#000039"
             }
            },
            "header": {
             "fill": {
              "color": "#000040"
             },
             "font": {
              "color": "#000036"
             },
             "line": {
              "color": "#000039"
             }
            },
            "type": "table"
           }
          ],
          "waterfall": [
           {
            "connector": {
             "line": {
              "color": "#000036",
              "width": 2
             }
            },
            "decreasing": {
             "marker": {
              "color": "#000033"
             }
            },
            "increasing": {
             "marker": {
              "color": "#000032"
             }
            },
            "totals": {
             "marker": {
              "color": "#000034"
             }
            },
            "type": "waterfall"
           }
          ]
         },
         "layout": {
          "coloraxis": {
           "colorscale": [
            [
             0,
             "#000011"
            ],
            [
             0.1111111111111111,
             "#000012"
            ],
            [
             0.2222222222222222,
             "#000013"
            ],
            [
             0.3333333333333333,
             "#000014"
            ],
            [
             0.4444444444444444,
             "#000015"
            ],
            [
             0.5555555555555556,
             "#000016"
            ],
            [
             0.6666666666666666,
             "#000017"
            ],
            [
             0.7777777777777778,
             "#000018"
            ],
            [
             0.8888888888888888,
             "#000019"
            ],
            [
             1,
             "#000020"
            ]
           ]
          },
          "colorscale": {
           "diverging": [
            [
             0,
             "#000021"
            ],
            [
             0.1,
             "#000022"
            ],
            [
             0.2,
             "#000023"
            ],
            [
             0.3,
             "#000024"
            ],
            [
             0.4,
             "#000025"
            ],
            [
             0.5,
             "#000026"
            ],
            [
             0.6,
             "#000027"
            ],
            [
             0.7,
             "#000028"
            ],
            [
             0.8,
             "#000029"
            ],
            [
             0.9,
             "#000030"
            ],
            [
             1,
             "#000031"
            ]
           ],
           "sequential": [
            [
             0,
             "#000011"
            ],
            [
             0.1111111111111111,
             "#000012"
            ],
            [
             0.2222222222222222,
             "#000013"
            ],
            [
             0.3333333333333333,
             "#000014"
            ],
            [
             0.4444444444444444,
             "#000015"
            ],
            [
             0.5555555555555556,
             "#000016"
            ],
            [
             0.6666666666666666,
             "#000017"
            ],
            [
             0.7777777777777778,
             "#000018"
            ],
            [
             0.8888888888888888,
             "#000019"
            ],
            [
             1,
             "#000020"
            ]
           ],
           "sequentialminus": [
            [
             0,
             "#000011"
            ],
            [
             0.1111111111111111,
             "#000012"
            ],
            [
             0.2222222222222222,
             "#000013"
            ],
            [
             0.3333333333333333,
             "#000014"
            ],
            [
             0.4444444444444444,
             "#000015"
            ],
            [
             0.5555555555555556,
             "#000016"
            ],
            [
             0.6666666666666666,
             "#000017"
            ],
            [
             0.7777777777777778,
             "#000018"
            ],
            [
             0.8888888888888888,
             "#000019"
            ],
            [
             1,
             "#000020"
            ]
           ]
          },
          "colorway": [
           "#000001",
           "#000002",
           "#000003",
           "#000004",
           "#000005",
           "#000006",
           "#000007",
           "#000008",
           "#000009",
           "#000010"
          ]
         }
        },
        "title": {
         "text": "Top 20 Most Popular Bike Stations in New York"
        },
        "width": 900,
        "xaxis": {
         "autorange": true,
         "range": [
          -0.5,
          19.5
         ],
         "tickangle": -45,
         "tickfont": {
          "size": 10
         },
         "title": {
          "text": "Start Stations"
         },
         "type": "category"
        },
        "yaxis": {
         "autorange": true,
         "range": [
          0,
          129654.73684210527
         ],
         "title": {
          "text": "Number of Trips"
         },
         "type": "linear"
        }
       }
      },
      "image/png": "[encoded data removed]",
      "text/html": [
       "<div>                            <div id=\"5427158e-76f9-45f4-8b98-923c89596812\" class=\"plotly-graph-div\" style=\"height:500px; width:900px;\"></div>            <script type=\"text/javascript\">                require([\"plotly\"], function(Plotly) {                    window.PLOTLYENV=window.PLOTLYENV || {};                                    if (document.getElementById(\"5427158e-76f9-45f4-8b98-923c89596812\")) {                    Plotly.newPlot(                        \"5427158e-76f9-45f4-8b98-923c89596812\",                        [{\"marker\":{\"color\":[123172,120412,110362,103202,99892,95660,95482,92972,91701,91125,88838,87522,87055,86203,85349,84714,84658,84033,82707,81252],\"colorscale\":[[0,\"#66c2a5\"],[1,\"#3288bd\"]]},\"x\":[\"W 21 St & 6 Ave\",\"West St & Chambers St\",\"Broadway & W 58 St\",\"6 Ave & W 33 St\",\"1 Ave & E 68 St\",\"Broadway & E 14 St\",\"Broadway & W 25 St\",\"University Pl & E 14 St\",\"Broadway & E 21 St\",\"W 31 St & 7 Ave\",\"12 Ave & W 40 St\",\"Cleveland Pl & Spring St\",\"E 33 St & 1 Ave\",\"6 Ave & W 34 St\",\"West St & Liberty St\",\"Central Park S & 6 Ave\",\"Lafayette St & E 8 St\",\"11 Ave & W 41 St\",\"E 40 St & Park Ave\",\"8 Ave & W 33 St\"],\"y\":[123172,120412,110362,103202,99892,95660,95482,92972,91701,91125,88838,87522,87055,86203,85349,84714,84658,84033,82707,81252],\"type\":\"bar\"}],                        {\"template\":{\"data\":{\"candlestick\":[{\"decreasing\":{\"line\":{\"color\":\"#000033\"}},\"increasing\":{\"line\":{\"color\":\"#000032\"}},\"type\":\"candlestick\"}],\"contourcarpet\":[{\"colorscale\":[[0.0,\"#000011\"],[0.1111111111111111,\"#000012\"],[0.2222222222222222,\"#000013\"],[0.3333333333333333,\"#000014\"],[0.4444444444444444,\"#000015\"],[0.5555555555555556,\"#000016\"],[0.6666666666666666,\"#000017\"],[0.7777777777777778,\"#000018\"],[0.8888888888888888,\"#000019\"],[1.0,\"#000020\"]],\"type\":\"contourcarpet\"}],\"contour\":[{\"colorscale\":[[0.0,\"#000011\"],[0.1111111111111111,\"#000012\"],[0.2222222222222222,\"#000013\"],[0.3333333333333333,\"#000014\"],[0.4444444444444444,\"#000015\"],[0.5555555555555556,\"#000016\"],[0.6666666666666666,\"#000017\"],[0.7777777777777778,\"#000018\"],[0.8888888888888888,\"#000019\"],[1.0,\"#000020\"]],\"type\":\"contour\"}],\"heatmap\":[{\"colorscale\":[[0.0,\"#000011\"],[0.1111111111111111,\"#000012\"],[0.2222222222222222,\"#000013\"],[0.3333333333333333,\"#000014\"],[0.4444444444444444,\"#000015\"],[0.5555555555555556,\"#000016\"],[0.6666666666666666,\"#000017\"],[0.7777777777777778,\"#000018\"],[0.8888888888888888,\"#000019\"],[1.0,\"#000020\"]],\"type\":\"heatmap\"}],\"histogram2d\":[{\"colorscale\":[[0.0,\"#000011\"],[0.1111111111111111,\"#000012\"],[0.2222222222222222,\"#000013\"],[0.3333333333333333,\"#000014\"],[0.4444444444444444,\"#000015\"],[0.5555555555555556,\"#000016\"],[0.6666666666666666,\"#000017\"],[0.7777777777777778,\"#000018\"],[0.8888888888888888,\"#000019\"],[1.0,\"#000020\"]],\"type\":\"histogram2d\"}],\"icicle\":[{\"textfont\":{\"color\":\"white\"},\"type\":\"icicle\"}],\"sankey\":[{\"textfont\":{\"color\":\"#000036\"},\"type\":\"sankey\"}],\"scatter\":[{\"marker\":{\"line\":{\"width\":0}},\"type\":\"scatter\"}],\"table\":[{\"cells\":{\"fill\":{\"color\":\"#000038\"},\"font\":{\"color\":\"#000037\"},\"line\":{\"color\":\"#000039\"}},\"header\":{\"fill\":{\"color\":\"#000040\"},\"font\":{\"color\":\"#000036\"},\"line\":{\"color\":\"#000039\"}},\"type\":\"table\"}],\"waterfall\":[{\"connector\":{\"line\":{\"color\":\"#000036\",\"width\":2}},\"decreasing\":{\"marker\":{\"color\":\"#000033\"}},\"increasing\":{\"marker\":{\"color\":\"#000032\"}},\"totals\":{\"marker\":{\"color\":\"#000034\"}},\"type\":\"waterfall\"}]},\"layout\":{\"coloraxis\":{\"colorscale\":[[0.0,\"#000011\"],[0.1111111111111111,\"#000012\"],[0.2222222222222222,\"#000013\"],[0.3333333333333333,\"#000014\"],[0.4444444444444444,\"#000015\"],[0.5555555555555556,\"#000016\"],[0.6666666666666666,\"#000017\"],[0.7777777777777778,\"#000018\"],[0.8888888888888888,\"#000019\"],[1.0,\"#000020\"]]},\"colorscale\":{\"diverging\":[[0.0,\"#000021\"],[0.1,\"#000022\"],[0.2,\"#000023\"],[0.3,\"#000024\"],[0.4,\"#000025\"],[0.5,\"#000026\"],[0.6,\"#000027\"],[0.7,\"#000028\"],[0.8,\"#000029\"],[0.9,\"#000030\"],[1.0,\"#000031\"]],\"sequential\":[[0.0,\"#000011\"],[0.1111111111111111,\"#000012\"],[0.2222222222222222,\"#000013\"],[0.3333333333333333,\"#000014\"],[0.4444444444444444,\"#000015\"],[0.5555555555555556,\"#000016\"],[0.6666666666666666,\"#000017\"],[0.7777777777777778,\"#000018\"],[0.8888888888888888,\"#000019\"],[1.0,\"#000020\"]],\"sequentialminus\":[[0.0,\"#000011\"],[0.1111111111111111,\"#000012\"],[0.2222222222222222,\"#000013\"],[0.3333333333333333,\"#000014\"],[0.4444444444444444,\"#000015\"],[0.5555555555555556,\"#000016\"],[0.6666666666666666,\"#000017\"],[0.7777777777777778,\"#000018\"],[0.8888888888888888,\"#000019\"],[1.0,\"#000020\"]]},\"colorway\":[\"#000001\",\"#000002\",\"#000003\",\"#000004\",\"#000005\",\"#000006\",\"#000007\",\"#000008\",\"#000009\",\"#000010\"]}},\"xaxis\":{\"tickfont\":{\"size\":10},\"title\":{\"text\":\"Start Stations\"},\"tickangle\":-45},\"title\":{\"text\":\"Top 20 Most Popular Bike Stations in New York\"},\"yaxis\":{\"title\":{\"text\":\"Number of Trips\"}},\"width\":900,\"height\":500},                        {\"responsive\": true}                    ).then(function(){\n",
       "                            \n",
       "var gd = document.getElementById('5427158e-76f9-45f4-8b98-923c89596812');\n",
       "var x = new MutationObserver(function (mutations, observer) {{\n",
       "        var display = window.getComputedStyle(gd).display;\n",
       "        if (!display || display === 'none') {{\n",
       "            console.log([gd, 'removed!']);\n",
       "            Plotly.purge(gd);\n",
       "            observer.disconnect();\n",
       "        }}\n",
       "}});\n",
       "\n",
       "// Listen for the removal of the full notebook cells\n",
       "var notebookContainer = gd.closest('#notebook-container');\n",
       "if (notebookContainer) {{\n",
       "    x.observe(notebookContainer, {childList: true});\n",
       "}}\n",
       "\n",
       "// Listen for the clearing of the current output cell\n",
       "var outputEl = gd.closest('.output');\n",
       "if (outputEl) {{\n",
       "    x.observe(outputEl, {childList: true});\n",
       "}}\n",
       "\n",
       "                        })                };                });            </script>        </div>"
      ]
     },
     "metadata": {},
     "output_type": "display_data"
    }
   ],
   "source": [
    "# Create the Bar Chart with Plotly\n",
    "fig = go.Figure(\n",
    "    go.Bar(\n",
    "        x=top20['start_station_name'],  # Station names on x-axis\n",
    "        y=top20['value'],              # Trip counts on y-axis\n",
    "        marker={\n",
    "            'color': top20['value'],    # Color bars based on trip counts\n",
    "            'colorscale': [[0, '#66c2a5'], [1, '#3288bd']]  # Custom colorscale\n",
    "        }\n",
    "    )\n",
    ")\n",
    "\n",
    "# Customize the Chart Layout\n",
    "fig.update_layout(\n",
    "    title='Top 20 Most Popular Bike Stations in New York',\n",
    "    xaxis_title='Start Stations',\n",
    "    yaxis_title='Number of Trips',\n",
    "    width=900,  # Adjust width for a smaller chart\n",
    "    height=500,  # Adjust height for a smaller chart\n",
    "    xaxis_tickangle=-45,  # Rotate x-axis labels to prevent overlap\n",
    "    xaxis=dict(\n",
    "        tickfont=dict(size=10)  # Slightly smaller font for x-axis labels\n",
    "    )\n",
    ")\n",
    "\n",
    "#  Display the Chart\n",
    "fig.show()\n",
    "\n",
    "# Save the Chart to a File\n",
    "save_path = r\"C:\\Users\\north\\OneDrive\\Dokumente\\Career Foundry\\Data Visualization 2\\Citi-Bike_Bike-Sharing\\Visualizations\\top20_stations.html\"\n",
    "fig.write_html(save_path)\n"
   ]
  },
  {
   "cell_type": "code",
   "execution_count": 13,
   "id": "1d3ca602-b347-4b69-a49f-7146ab6226c1",
   "metadata": {
    "tags": []
   },
   "outputs": [],
   "source": [
    "# Save the top 20 stations to a CSV file\n",
    "save_path = r\"C:\\Users\\north\\OneDrive\\Dokumente\\Career Foundry\\Data Visualization 2\\Citi-Bike_Bike-Sharing\\Data\\Prepared Data\\top20_stations.csv\"\n",
    "top20.to_csv(save_path, index=False)"
   ]
  },
  {
   "cell_type": "markdown",
   "id": "d024e9bb-d975-49c3-9fcd-7a179e6ad11a",
   "metadata": {},
   "source": [
    "#### Create a dual-axis line chart for the aggregated bike trips and temperatures in plotly"
   ]
  },
  {
   "cell_type": "code",
   "execution_count": 14,
   "id": "ea5af707-34e4-409f-9873-1e6dfe8ee269",
   "metadata": {
    "tags": []
   },
   "outputs": [],
   "source": [
    "# Load the dataset\n",
    "file_path = r\"C:\\Users\\north\\OneDrive\\Dokumente\\Career Foundry\\Data Visualization 2\\Citi-Bike_Bike-Sharing\\Data\\Prepared Data\\merged_weather_trips.csv\"\n",
    "df_trips = pd.read_csv(file_path, low_memory=False)"
   ]
  },
  {
   "cell_type": "code",
   "execution_count": 15,
   "id": "c3019246-12f7-4dbc-bf26-31866244c0e8",
   "metadata": {
    "tags": []
   },
   "outputs": [
    {
     "data": {
      "text/html": [
       "<div>\n",
       "<style scoped>\n",
       "    .dataframe tbody tr th:only-of-type {\n",
       "        vertical-align: middle;\n",
       "    }\n",
       "\n",
       "    .dataframe tbody tr th {\n",
       "        vertical-align: top;\n",
       "    }\n",
       "\n",
       "    .dataframe thead th {\n",
       "        text-align: right;\n",
       "    }\n",
       "</style>\n",
       "<table border=\"1\" class=\"dataframe\">\n",
       "  <thead>\n",
       "    <tr style=\"text-align: right;\">\n",
       "      <th></th>\n",
       "      <th>date</th>\n",
       "      <th>avg_temp</th>\n",
       "      <th>trip_count</th>\n",
       "    </tr>\n",
       "  </thead>\n",
       "  <tbody>\n",
       "    <tr>\n",
       "      <th>0</th>\n",
       "      <td>2022-01-01</td>\n",
       "      <td>11.6</td>\n",
       "      <td>20428</td>\n",
       "    </tr>\n",
       "    <tr>\n",
       "      <th>1</th>\n",
       "      <td>2022-01-02</td>\n",
       "      <td>11.4</td>\n",
       "      <td>43009</td>\n",
       "    </tr>\n",
       "    <tr>\n",
       "      <th>2</th>\n",
       "      <td>2022-01-03</td>\n",
       "      <td>1.4</td>\n",
       "      <td>33189</td>\n",
       "    </tr>\n",
       "    <tr>\n",
       "      <th>3</th>\n",
       "      <td>2022-01-04</td>\n",
       "      <td>-2.7</td>\n",
       "      <td>36842</td>\n",
       "    </tr>\n",
       "    <tr>\n",
       "      <th>4</th>\n",
       "      <td>2022-01-05</td>\n",
       "      <td>3.2</td>\n",
       "      <td>34230</td>\n",
       "    </tr>\n",
       "  </tbody>\n",
       "</table>\n",
       "</div>"
      ],
      "text/plain": [
       "         date  avg_temp  trip_count\n",
       "0  2022-01-01      11.6       20428\n",
       "1  2022-01-02      11.4       43009\n",
       "2  2022-01-03       1.4       33189\n",
       "3  2022-01-04      -2.7       36842\n",
       "4  2022-01-05       3.2       34230"
      ]
     },
     "execution_count": 15,
     "metadata": {},
     "output_type": "execute_result"
    }
   ],
   "source": [
    "df_trips.head()"
   ]
  },
  {
   "cell_type": "code",
   "execution_count": 18,
   "id": "2034101f-90de-405b-a7d8-421f561b6112",
   "metadata": {
    "tags": []
   },
   "outputs": [
    {
     "data": {
      "text/plain": [
       "date           object\n",
       "avg_temp      float64\n",
       "trip_count      int64\n",
       "dtype: object"
      ]
     },
     "execution_count": 18,
     "metadata": {},
     "output_type": "execute_result"
    }
   ],
   "source": [
    "df_trips.dtypes"
   ]
  },
  {
   "cell_type": "markdown",
   "id": "d8676145-cedf-442e-af8d-356df9bdced3",
   "metadata": {
    "tags": []
   },
   "source": [
    "#### _The next chart's output has been deleted because it inflates the notebook's size a lot_ "
   ]
  },
  {
   "cell_type": "code",
   "execution_count": null,
   "id": "a3700347-a204-4354-bbbd-97d625546cd0",
   "metadata": {
    "tags": []
   },
   "outputs": [],
   "source": [
    "# Ensure Date Column is in Correct Format\n",
    "df_trips['date'] = pd.to_datetime(df['date'])\n",
    "\n",
    "# Create Dual-Axis Line Chart\n",
    "fig = make_subplots(specs=[[{\"secondary_y\": True}]])\n",
    "\n",
    "# Add line for daily bike rides (trip_count)\n",
    "fig.add_trace(\n",
    "    go.Scatter(\n",
    "        x=df_trips['date'], \n",
    "        y=df_trips['trip_count'], \n",
    "        name='Daily Bike Rides',\n",
    "        line=dict(color='blue')\n",
    "    ),\n",
    "    secondary_y=False  # Assign to the primary y-axis\n",
    ")\n",
    "\n",
    "# Add line for average daily temperature (avg_temp)\n",
    "fig.add_trace(\n",
    "    go.Scatter(\n",
    "        x=df_trips['date'], \n",
    "        y=df_trips['avg_temp'], \n",
    "        name='Daily Temperature',\n",
    "        line=dict(color='red')\n",
    "    ),\n",
    "    secondary_y=True  # Assign to the secondary y-axis\n",
    ")\n",
    "\n",
    "# Customize Layout\n",
    "fig.update_layout(\n",
    "    title='Daily Bike Rides and Temperatures in New York',\n",
    "    xaxis_title='Date',\n",
    "    yaxis_title='Bike Rides (Primary Y-Axis)',\n",
    "    yaxis2_title='Temperature (°C) (Secondary Y-Axis)',\n",
    "    width=900,\n",
    "    height=600,\n",
    "    legend=dict(\n",
    "        orientation=\"h\",  # Horizontal legend\n",
    "        yanchor=\"bottom\",\n",
    "        y=1.02,\n",
    "        xanchor=\"right\",\n",
    "        x=1\n",
    "    )\n",
    ")\n",
    "\n",
    "# Step 5: Show the Chart\n",
    "fig.show()"
   ]
  },
  {
   "cell_type": "code",
   "execution_count": 21,
   "id": "94230aae-9e85-40f6-bac8-b76d912bc0d2",
   "metadata": {
    "tags": []
   },
   "outputs": [],
   "source": [
    "# Save the Chart\n",
    "save_path = r\"C:\\Users\\north\\OneDrive\\Dokumente\\Career Foundry\\Data Visualization 2\\Citi-Bike_Bike-Sharing\\Visualizations\\bike_trips_temp_dual_axis.html\"\n",
    "fig.write_html(save_path)"
   ]
  },
  {
   "cell_type": "code",
   "execution_count": 22,
   "id": "20486214-f2e6-4643-8e29-faec023f2296",
   "metadata": {
    "tags": []
   },
   "outputs": [],
   "source": [
    "# Define the save path\n",
    "save_path = r\"C:\\Users\\north\\OneDrive\\Dokumente\\Career Foundry\\Data Visualization 2\\Citi-Bike_Bike-Sharing\\Data\\Prepared Data\\updated_df_trips.csv\"\n",
    "# Save the updated DataFrame to a CSV file\n",
    "df_trips.to_csv(save_path, index=False)\n"
   ]
  },
  {
   "cell_type": "code",
   "execution_count": 26,
   "id": "c2315086-f9be-4e99-b5b7-cc88a5bedf25",
   "metadata": {
    "tags": []
   },
   "outputs": [
    {
     "data": {
      "text/plain": [
       "1780"
      ]
     },
     "execution_count": 26,
     "metadata": {},
     "output_type": "execute_result"
    }
   ],
   "source": [
    "import gc # this is a garbage collector\n",
    "gc.collect()"
   ]
  },
  {
   "cell_type": "code",
   "execution_count": 28,
   "id": "a2b45789-61e6-4f3a-85c0-a3d6b86d8cfc",
   "metadata": {
    "tags": []
   },
   "outputs": [
    {
     "data": {
      "text/plain": [
       "Index(['ride_id', 'rideable_type', 'started_at', 'ended_at',\n",
       "       'start_station_name', 'start_station_id', 'end_station_name',\n",
       "       'end_station_id', 'start_lat', 'start_lng', 'end_lat', 'end_lng',\n",
       "       'member_casual', 'start_date', 'start_time', 'end_date', 'end_time',\n",
       "       'date', 'avg_temp', '_merge', 'value'],\n",
       "      dtype='object')"
      ]
     },
     "execution_count": 28,
     "metadata": {},
     "output_type": "execute_result"
    }
   ],
   "source": [
    " df.columns"
   ]
  },
  {
   "cell_type": "markdown",
   "id": "16d7509a-ee09-4cc0-86c4-39f26715eafa",
   "metadata": {},
   "source": [
    "### Reduce the row and column count"
   ]
  },
  {
   "cell_type": "code",
   "execution_count": 30,
   "id": "a89b6fd7-8261-431a-8259-531d83e4d2f6",
   "metadata": {
    "tags": []
   },
   "outputs": [],
   "source": [
    "# Reduce Columns\n",
    "columns_to_drop = [\n",
    "    'started_at', 'ended_at', 'start_station_id', 'end_station_id', 'date', '_merge'\n",
    "]\n",
    "df_reduced = df.drop(columns=columns_to_drop)"
   ]
  },
  {
   "cell_type": "code",
   "execution_count": 33,
   "id": "e045744c-2646-4833-ba18-1912e3740f0d",
   "metadata": {
    "tags": []
   },
   "outputs": [],
   "source": [
    "# Randomly sample 10-20% of rows\n",
    "sample_fraction = 0.15  # Adjust fraction between 0.10 (10%) and 0.20 (20%)\n",
    "np.random.seed(42)  # Ensure reproducibility\n",
    "mask = np.random.rand(len(df_reduced)) <= sample_fraction\n",
    "df_sampled = df_reduced[mask]"
   ]
  },
  {
   "cell_type": "code",
   "execution_count": null,
   "id": "d20aea8e-b2f7-4f63-a9df-83d013fd1f52",
   "metadata": {
    "tags": []
   },
   "outputs": [
    {
     "name": "stdout",
     "output_type": "stream",
     "text": [
      "Original dataset shape: (28814251, 15)\n",
      "Reduced dataset shape (15% rows): (4319745, 15)\n"
     ]
    }
   ],
   "source": [
    "# Print the shapes\n",
    "print(\"Original dataset shape:\", df_reduced.shape)\n",
    "print(f\"Reduced dataset shape ({int(sample_fraction * 100)}% rows):\", df_sampled.shape)\n",
    "\n",
    "# Save the reduced dataset\n",
    "output_path = \"reduced_citibike_data.csv\"\n",
    "df_sampled.to_csv(output_path, index=False)"
   ]
  },
  {
   "cell_type": "code",
   "execution_count": null,
   "id": "94d8a8e2-3659-4357-911d-e0d39f805839",
   "metadata": {},
   "outputs": [],
   "source": []
  }
 ],
 "metadata": {
  "kernelspec": {
   "display_name": "Python (citibike)",
   "language": "python",
   "name": "citibike"
  },
  "language_info": {
   "codemirror_mode": {
    "name": "ipython",
    "version": 3
   },
   "file_extension": ".py",
   "mimetype": "text/x-python",
   "name": "python",
   "nbconvert_exporter": "python",
   "pygments_lexer": "ipython3",
   "version": "3.9.20"
  }
 },
 "nbformat": 4,
 "nbformat_minor": 5
}

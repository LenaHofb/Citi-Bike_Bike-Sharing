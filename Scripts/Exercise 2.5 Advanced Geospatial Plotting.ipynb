{
 "cells": [
  {
   "cell_type": "markdown",
   "id": "47315787-5d97-47e4-b05f-6b8da6248808",
   "metadata": {},
   "source": [
    "## Exercise 5 - Advanced geospatial plotting "
   ]
  },
  {
   "cell_type": "code",
   "execution_count": 1,
   "id": "0eb28e4b-20cc-4790-8d5c-e7125f99d4d2",
   "metadata": {
    "tags": []
   },
   "outputs": [],
   "source": [
    "# Import Libraries\n",
    "import pandas as pd\n",
    "import os\n",
    "from keplergl import KeplerGl\n",
    "from pyproj import CRS\n",
    "import numpy as np\n",
    "from matplotlib import pyplot as plt"
   ]
  },
  {
   "cell_type": "code",
   "execution_count": 2,
   "id": "da4a832e-d01c-48e1-b56f-7b31cd79c5ab",
   "metadata": {
    "tags": []
   },
   "outputs": [
    {
     "name": "stdout",
     "output_type": "stream",
     "text": [
      "            ride_id               started_at                 ended_at  \\\n",
      "0  70F3BA79664016C1  2022-02-28 09:22:49.821  2022-02-28 09:28:55.174   \n",
      "1  8FA3412A958122D0  2022-02-14 10:47:30.462  2022-02-14 10:56:04.433   \n",
      "2  0E2BA02AEAD03EB8  2022-02-18 22:26:55.796  2022-02-18 22:44:31.472   \n",
      "3  B626F8E1D7ABABBA  2022-02-09 18:38:18.621  2022-02-09 18:47:11.274   \n",
      "4  605E7CC493D08F3B  2022-02-06 14:52:48.564  2022-02-06 14:55:56.218   \n",
      "\n",
      "           start_station_name                    end_station_name  start_lat  \\\n",
      "0             9 Ave & W 18 St          Greenwich Ave & Charles St  40.743174   \n",
      "1    W 120 St & Claremont Ave  Frederick Douglass Blvd & W 117 St  40.810949   \n",
      "2              E 4 St & 2 Ave          Greenwich Ave & Charles St  40.726281   \n",
      "3      White St & Johnson Ave              Irving Ave & Harman St  40.707174   \n",
      "4  S Portland Ave & Hanson Pl         Nevins St & Schermerhorn St  40.685396   \n",
      "\n",
      "   start_lng    end_lat    end_lng       start_time         end_time  \\\n",
      "0 -74.003664  40.735238 -74.000271  09:22:49.821000  09:28:55.174000   \n",
      "1 -73.963400  40.805159 -73.954692  10:47:30.462000  10:56:04.433000   \n",
      "2 -73.989780  40.735238 -74.000271  22:26:55.796000  22:44:31.472000   \n",
      "3 -73.935810  40.701080 -73.917900  18:38:18.621000  18:47:11.274000   \n",
      "4 -73.974315  40.687372 -73.981761  14:52:48.564000  14:55:56.218000   \n",
      "\n",
      "         date  \n",
      "0  2022-02-28  \n",
      "1  2022-02-14  \n",
      "2  2022-02-18  \n",
      "3  2022-02-09  \n",
      "4  2022-02-06  \n"
     ]
    }
   ],
   "source": [
    "# Specify the path to CSV file\n",
    "file_path = r'C:\\Users\\north\\OneDrive\\Dokumente\\Career Foundry\\Data Visualization 2\\Citi-Bike_Bike-Sharing\\Data\\Prepared Data\\merged_citibike_weather.csv'\n",
    "\n",
    "# Define the required columns as a list\n",
    "required_columns = [\n",
    "    'ride_id', 'started_at', 'ended_at', 'start_station_name', \n",
    "    'end_station_name', 'start_lat', 'start_lng', 'end_lat', \n",
    "    'end_lng', 'start_time', 'end_time', 'date'\n",
    "]\n",
    "\n",
    "# Load only the specified columns\n",
    "citibike_weather_df = pd.read_csv(file_path, usecols=required_columns)\n",
    "\n",
    "print(citibike_weather_df.head())  # Display the first few rows of the DataFrame"
   ]
  },
  {
   "cell_type": "markdown",
   "id": "5bf19f5b-6c2c-408c-b821-1dec501389c0",
   "metadata": {},
   "source": [
    "### Data preprocessing"
   ]
  },
  {
   "cell_type": "code",
   "execution_count": 3,
   "id": "0d37039b-3fc6-48f3-bff2-9be4d44f7b1b",
   "metadata": {
    "tags": []
   },
   "outputs": [
    {
     "data": {
      "text/html": [
       "<div>\n",
       "<style scoped>\n",
       "    .dataframe tbody tr th:only-of-type {\n",
       "        vertical-align: middle;\n",
       "    }\n",
       "\n",
       "    .dataframe tbody tr th {\n",
       "        vertical-align: top;\n",
       "    }\n",
       "\n",
       "    .dataframe thead th {\n",
       "        text-align: right;\n",
       "    }\n",
       "</style>\n",
       "<table border=\"1\" class=\"dataframe\">\n",
       "  <thead>\n",
       "    <tr style=\"text-align: right;\">\n",
       "      <th></th>\n",
       "      <th>start_station_name</th>\n",
       "      <th>end_station_name</th>\n",
       "      <th>trip_count</th>\n",
       "    </tr>\n",
       "  </thead>\n",
       "  <tbody>\n",
       "    <tr>\n",
       "      <th>0</th>\n",
       "      <td>1 Ave &amp; E 110 St</td>\n",
       "      <td>1 Ave &amp; E 110 St</td>\n",
       "      <td>764</td>\n",
       "    </tr>\n",
       "    <tr>\n",
       "      <th>1</th>\n",
       "      <td>1 Ave &amp; E 110 St</td>\n",
       "      <td>1 Ave &amp; E 18 St</td>\n",
       "      <td>2</td>\n",
       "    </tr>\n",
       "    <tr>\n",
       "      <th>2</th>\n",
       "      <td>1 Ave &amp; E 110 St</td>\n",
       "      <td>1 Ave &amp; E 30 St</td>\n",
       "      <td>4</td>\n",
       "    </tr>\n",
       "    <tr>\n",
       "      <th>3</th>\n",
       "      <td>1 Ave &amp; E 110 St</td>\n",
       "      <td>1 Ave &amp; E 39 St</td>\n",
       "      <td>1</td>\n",
       "    </tr>\n",
       "    <tr>\n",
       "      <th>4</th>\n",
       "      <td>1 Ave &amp; E 110 St</td>\n",
       "      <td>1 Ave &amp; E 44 St</td>\n",
       "      <td>10</td>\n",
       "    </tr>\n",
       "    <tr>\n",
       "      <th>...</th>\n",
       "      <td>...</td>\n",
       "      <td>...</td>\n",
       "      <td>...</td>\n",
       "    </tr>\n",
       "    <tr>\n",
       "      <th>1007535</th>\n",
       "      <td>Yankee Ferry Terminal</td>\n",
       "      <td>Water St &amp; Main St</td>\n",
       "      <td>4</td>\n",
       "    </tr>\n",
       "    <tr>\n",
       "      <th>1007536</th>\n",
       "      <td>Yankee Ferry Terminal</td>\n",
       "      <td>West St &amp; Chambers St</td>\n",
       "      <td>6</td>\n",
       "    </tr>\n",
       "    <tr>\n",
       "      <th>1007537</th>\n",
       "      <td>Yankee Ferry Terminal</td>\n",
       "      <td>West St &amp; Liberty St</td>\n",
       "      <td>4</td>\n",
       "    </tr>\n",
       "    <tr>\n",
       "      <th>1007538</th>\n",
       "      <td>Yankee Ferry Terminal</td>\n",
       "      <td>West Thames St</td>\n",
       "      <td>1</td>\n",
       "    </tr>\n",
       "    <tr>\n",
       "      <th>1007539</th>\n",
       "      <td>Yankee Ferry Terminal</td>\n",
       "      <td>Yankee Ferry Terminal</td>\n",
       "      <td>5692</td>\n",
       "    </tr>\n",
       "  </tbody>\n",
       "</table>\n",
       "<p>1007540 rows × 3 columns</p>\n",
       "</div>"
      ],
      "text/plain": [
       "            start_station_name       end_station_name  trip_count\n",
       "0             1 Ave & E 110 St       1 Ave & E 110 St         764\n",
       "1             1 Ave & E 110 St        1 Ave & E 18 St           2\n",
       "2             1 Ave & E 110 St        1 Ave & E 30 St           4\n",
       "3             1 Ave & E 110 St        1 Ave & E 39 St           1\n",
       "4             1 Ave & E 110 St        1 Ave & E 44 St          10\n",
       "...                        ...                    ...         ...\n",
       "1007535  Yankee Ferry Terminal     Water St & Main St           4\n",
       "1007536  Yankee Ferry Terminal  West St & Chambers St           6\n",
       "1007537  Yankee Ferry Terminal   West St & Liberty St           4\n",
       "1007538  Yankee Ferry Terminal         West Thames St           1\n",
       "1007539  Yankee Ferry Terminal  Yankee Ferry Terminal        5692\n",
       "\n",
       "[1007540 rows x 3 columns]"
      ]
     },
     "execution_count": 3,
     "metadata": {},
     "output_type": "execute_result"
    }
   ],
   "source": [
    "# Add a new column with the value of 1\n",
    "citibike_weather_df['value'] = 1\n",
    "\n",
    "# Group by starting and ending stations, and count the trips\n",
    "aggregated_df = citibike_weather_df.groupby(['start_station_name', 'end_station_name'])['value'].count().reset_index()\n",
    "aggregated_df.rename(columns={'value': 'trip_count'}, inplace=True)\n",
    "\n",
    "# Display the first few rows of the aggregated DataFrame\n",
    "aggregated_df"
   ]
  },
  {
   "cell_type": "code",
   "execution_count": 4,
   "id": "c9093ff7-a175-4e57-8a59-83ac967a69f8",
   "metadata": {
    "tags": []
   },
   "outputs": [
    {
     "name": "stdout",
     "output_type": "stream",
     "text": [
      "28753448\n",
      "(28814251, 13)\n"
     ]
    }
   ],
   "source": [
    "print(aggregated_df['trip_count'].sum())\n",
    "print(citibike_weather_df.shape)"
   ]
  },
  {
   "cell_type": "code",
   "execution_count": 5,
   "id": "b7b2d7d8-5eff-4aa3-944e-6907ce51c2d4",
   "metadata": {
    "tags": []
   },
   "outputs": [
    {
     "name": "stdout",
     "output_type": "stream",
     "text": [
      "Missing start_station_name: 49\n",
      "Missing end_station_name: 60803\n"
     ]
    }
   ],
   "source": [
    "#Identify rows with missing station names:\n",
    "missing_start = citibike_weather_df['start_station_name'].isna().sum()\n",
    "missing_end = citibike_weather_df['end_station_name'].isna().sum()\n",
    "print(f\"Missing start_station_name: {missing_start}\")\n",
    "print(f\"Missing end_station_name: {missing_end}\")"
   ]
  },
  {
   "cell_type": "code",
   "execution_count": 6,
   "id": "3e72cb0e-0d9b-4dc8-a0fb-185b8e4515cc",
   "metadata": {
    "tags": []
   },
   "outputs": [
    {
     "name": "stdout",
     "output_type": "stream",
     "text": [
      "Total missing rows: 60852\n",
      "Discrepancy in trip count: 27806711\n"
     ]
    }
   ],
   "source": [
    "#Compare the number of rows with missing station names to the discrepancy:\n",
    "total_missing = missing_start + missing_end\n",
    "discrepancy = len(citibike_weather_df) - len(aggregated_df)\n",
    "print(f\"Total missing rows: {total_missing}\")\n",
    "print(f\"Discrepancy in trip count: {discrepancy}\")"
   ]
  },
  {
   "cell_type": "code",
   "execution_count": 7,
   "id": "e8c0f881-ee8d-479f-ab29-aa097e358934",
   "metadata": {
    "tags": []
   },
   "outputs": [
    {
     "name": "stdout",
     "output_type": "stream",
     "text": [
      "Number of missing rows: 60803\n",
      "Number of unique missing rows: 60803\n"
     ]
    }
   ],
   "source": [
    "# Check for Rows with Missing Station Names: Ensure there are no duplicates among the rows\n",
    "missing_rows = citibike_weather_df[citibike_weather_df['start_station_name'].isna() | citibike_weather_df['end_station_name'].isna()]\n",
    "print(f\"Number of missing rows: {len(missing_rows)}\")\n",
    "print(f\"Number of unique missing rows: {missing_rows.drop_duplicates().shape[0]}\")"
   ]
  },
  {
   "cell_type": "code",
   "execution_count": 8,
   "id": "c59890b3-e152-460f-83ae-4f38acc4e37a",
   "metadata": {
    "tags": []
   },
   "outputs": [
    {
     "name": "stdout",
     "output_type": "stream",
     "text": [
      "Sum of aggregated trip counts: 28753448\n",
      "Original dataset size: 28814251\n",
      "Discrepancy: 60803\n"
     ]
    }
   ],
   "source": [
    "#Compare Total Rows and Trip Count Compare the total number of trips in citibike_weather_df and the sum of the trip counts in aggregated_df:\n",
    "aggregated_trip_count = aggregated_df['trip_count'].sum()\n",
    "print(f\"Sum of aggregated trip counts: {aggregated_trip_count}\")\n",
    "print(f\"Original dataset size: {len(citibike_weather_df)}\")\n",
    "discrepancy = len(citibike_weather_df) - aggregated_trip_count\n",
    "print(f\"Discrepancy: {discrepancy}\")\n"
   ]
  },
  {
   "cell_type": "code",
   "execution_count": 9,
   "id": "5bf9c4e0-57ad-47d8-b54d-6101c8fc068c",
   "metadata": {
    "tags": []
   },
   "outputs": [
    {
     "name": "stdout",
     "output_type": "stream",
     "text": [
      "Number of duplicate rows in the dataset: 0\n"
     ]
    }
   ],
   "source": [
    "# Check for Duplicate Rows\n",
    "duplicate_rows = citibike_weather_df.duplicated().sum()\n",
    "print(f\"Number of duplicate rows in the dataset: {duplicate_rows}\")"
   ]
  },
  {
   "cell_type": "code",
   "execution_count": 10,
   "id": "498aa089-861f-494a-87e5-e85d3319613a",
   "metadata": {
    "tags": []
   },
   "outputs": [
    {
     "name": "stdout",
     "output_type": "stream",
     "text": [
      "              ride_id               started_at                 ended_at  \\\n",
      "184  DB5141E47624FAEE  2022-02-06 12:45:51.575  2022-02-06 19:32:27.836   \n",
      "681  801D69F774F96E7F  2022-02-27 20:49:37.886  2022-02-28 21:49:34.716   \n",
      "682  E0A1356CAD54CEB2  2022-02-11 09:55:07.738  2022-02-12 10:54:59.211   \n",
      "688  3BC6F392AAF0E1F8  2022-02-22 16:42:32.804  2022-02-23 17:42:23.131   \n",
      "691  423E639154B98809  2022-02-18 08:25:29.024  2022-02-19 09:25:06.420   \n",
      "\n",
      "           start_station_name end_station_name  start_lat  start_lng  end_lat  \\\n",
      "184           8 Ave & W 52 St              NaN  40.763707 -73.985162    40.75   \n",
      "681     Clinton St & Grand St              NaN  40.715595 -73.987030      NaN   \n",
      "682        Broadway & W 38 St              NaN  40.752973 -73.987349      NaN   \n",
      "688     Caton Ave & Argyle Rd              NaN  40.649681 -73.967829      NaN   \n",
      "691  Southern Blvd & E 174 St              NaN  40.836733 -73.887931      NaN   \n",
      "\n",
      "     end_lng       start_time         end_time        date  value  \n",
      "184   -73.99  12:45:51.575000  19:32:27.836000  2022-02-06      1  \n",
      "681      NaN  20:49:37.886000  21:49:34.716000  2022-02-27      1  \n",
      "682      NaN  09:55:07.738000  10:54:59.211000  2022-02-11      1  \n",
      "688      NaN  16:42:32.804000  17:42:23.131000  2022-02-22      1  \n",
      "691      NaN  08:25:29.024000  09:25:06.420000  2022-02-18      1  \n"
     ]
    }
   ],
   "source": [
    "# Identify rows in the original dataset that are excluded during aggregation\n",
    "unmatched_rows = citibike_weather_df[~citibike_weather_df['start_station_name'].notna() | ~citibike_weather_df['end_station_name'].notna()]\n",
    "print(unmatched_rows.head())"
   ]
  },
  {
   "cell_type": "code",
   "execution_count": 11,
   "id": "b92a4640-a809-4f23-9eda-b8af0a458bf6",
   "metadata": {
    "tags": []
   },
   "outputs": [
    {
     "name": "stdout",
     "output_type": "stream",
     "text": [
      "Sum of aggregated trip counts after dropping rows: 28753448\n",
      "Updated dataset size: 28753448\n"
     ]
    }
   ],
   "source": [
    "# Drop rows with missing values in the 'start_station_name' or 'end_station_name' columns\n",
    "citibike_weather_df.dropna(subset=['start_station_name', 'end_station_name'], inplace=True)\n",
    "\n",
    "# Recompute the aggregation\n",
    "aggregated_df = citibike_weather_df.groupby(['start_station_name', 'end_station_name'])['value'].count().reset_index()\n",
    "aggregated_df.rename(columns={'value': 'trip_count'}, inplace=True)\n",
    "\n",
    "# Verify the updated dataset size and aggregation\n",
    "aggregated_trip_count = aggregated_df['trip_count'].sum()\n",
    "print(f\"Sum of aggregated trip counts after dropping rows: {aggregated_trip_count}\")\n",
    "print(f\"Updated dataset size: {len(citibike_weather_df)}\")"
   ]
  },
  {
   "cell_type": "markdown",
   "id": "a10964ce-fb03-4a56-8a3e-7d32e0d60e97",
   "metadata": {},
   "source": [
    "#### Handling Missing Values in the Dataset\n",
    "\n",
    "In the dataset, 60,803 rows (approximately 0.21% of the total dataset) had missing values in the `start_station_name` or `end_station_name` columns. These columns are essential for grouping trips by their starting and ending points, and rows with missing values lack the critical information required for accurate analysis.\n",
    "\n",
    "To ensure data completeness and reliable results, I decided to drop these rows. The impact of removing this small percentage of data on the overall dataset and analysis is minimal, and it resolves discrepancies in the aggregation process.\n"
   ]
  },
  {
   "cell_type": "code",
   "execution_count": 12,
   "id": "9debcb0e-73f0-491d-b7ac-7fab5b76c73a",
   "metadata": {
    "tags": []
   },
   "outputs": [
    {
     "data": {
      "text/plain": [
       "count    1.007540e+06\n",
       "mean     2.853827e+01\n",
       "std      9.589649e+01\n",
       "min      1.000000e+00\n",
       "25%      1.000000e+00\n",
       "50%      4.000000e+00\n",
       "75%      1.700000e+01\n",
       "max      1.182900e+04\n",
       "Name: trip_count, dtype: float64"
      ]
     },
     "execution_count": 12,
     "metadata": {},
     "output_type": "execute_result"
    }
   ],
   "source": [
    "aggregated_df['trip_count'].describe()"
   ]
  },
  {
   "cell_type": "markdown",
   "id": "01b93502-9baf-48a8-9d1f-f9aec8114cf0",
   "metadata": {},
   "source": [
    "### Initialize an instance of a kepler.gl map"
   ]
  },
  {
   "cell_type": "code",
   "execution_count": 13,
   "id": "490c6f95-044f-4260-b08b-b3c0b65bb1f6",
   "metadata": {
    "tags": []
   },
   "outputs": [
    {
     "data": {
      "text/html": [
       "<div>\n",
       "<style scoped>\n",
       "    .dataframe tbody tr th:only-of-type {\n",
       "        vertical-align: middle;\n",
       "    }\n",
       "\n",
       "    .dataframe tbody tr th {\n",
       "        vertical-align: top;\n",
       "    }\n",
       "\n",
       "    .dataframe thead th {\n",
       "        text-align: right;\n",
       "    }\n",
       "</style>\n",
       "<table border=\"1\" class=\"dataframe\">\n",
       "  <thead>\n",
       "    <tr style=\"text-align: right;\">\n",
       "      <th></th>\n",
       "      <th>start_station_name</th>\n",
       "      <th>end_station_name</th>\n",
       "      <th>trip_count</th>\n",
       "    </tr>\n",
       "  </thead>\n",
       "  <tbody>\n",
       "    <tr>\n",
       "      <th>0</th>\n",
       "      <td>1 Ave &amp; E 110 St</td>\n",
       "      <td>1 Ave &amp; E 110 St</td>\n",
       "      <td>764</td>\n",
       "    </tr>\n",
       "    <tr>\n",
       "      <th>1</th>\n",
       "      <td>1 Ave &amp; E 110 St</td>\n",
       "      <td>1 Ave &amp; E 18 St</td>\n",
       "      <td>2</td>\n",
       "    </tr>\n",
       "    <tr>\n",
       "      <th>2</th>\n",
       "      <td>1 Ave &amp; E 110 St</td>\n",
       "      <td>1 Ave &amp; E 30 St</td>\n",
       "      <td>4</td>\n",
       "    </tr>\n",
       "    <tr>\n",
       "      <th>3</th>\n",
       "      <td>1 Ave &amp; E 110 St</td>\n",
       "      <td>1 Ave &amp; E 39 St</td>\n",
       "      <td>1</td>\n",
       "    </tr>\n",
       "    <tr>\n",
       "      <th>4</th>\n",
       "      <td>1 Ave &amp; E 110 St</td>\n",
       "      <td>1 Ave &amp; E 44 St</td>\n",
       "      <td>10</td>\n",
       "    </tr>\n",
       "  </tbody>\n",
       "</table>\n",
       "</div>"
      ],
      "text/plain": [
       "  start_station_name  end_station_name  trip_count\n",
       "0   1 Ave & E 110 St  1 Ave & E 110 St         764\n",
       "1   1 Ave & E 110 St   1 Ave & E 18 St           2\n",
       "2   1 Ave & E 110 St   1 Ave & E 30 St           4\n",
       "3   1 Ave & E 110 St   1 Ave & E 39 St           1\n",
       "4   1 Ave & E 110 St   1 Ave & E 44 St          10"
      ]
     },
     "execution_count": 13,
     "metadata": {},
     "output_type": "execute_result"
    }
   ],
   "source": [
    "aggregated_df.head()"
   ]
  },
  {
   "cell_type": "code",
   "execution_count": 14,
   "id": "296cf19b-4a7c-4bb2-bf48-60a56b04940c",
   "metadata": {
    "tags": []
   },
   "outputs": [
    {
     "data": {
      "text/plain": [
       "Index(['ride_id', 'started_at', 'ended_at', 'start_station_name',\n",
       "       'end_station_name', 'start_lat', 'start_lng', 'end_lat', 'end_lng',\n",
       "       'start_time', 'end_time', 'date', 'value'],\n",
       "      dtype='object')"
      ]
     },
     "execution_count": 14,
     "metadata": {},
     "output_type": "execute_result"
    }
   ],
   "source": [
    "citibike_weather_df.columns"
   ]
  },
  {
   "cell_type": "code",
   "execution_count": 15,
   "id": "f09b8a43-a6fb-497c-968a-da31898cf640",
   "metadata": {
    "tags": []
   },
   "outputs": [
    {
     "name": "stdout",
     "output_type": "stream",
     "text": [
      "  start_station_name            end_station_name  start_lat  start_lng  \\\n",
      "0    9 Ave & W 18 St  Greenwich Ave & Charles St  40.743174 -74.003664   \n",
      "1    9 Ave & W 18 St  Greenwich Ave & Charles St  40.743174 -74.003664   \n",
      "2    9 Ave & W 18 St  Greenwich Ave & Charles St  40.743286 -74.003600   \n",
      "3    9 Ave & W 18 St  Greenwich Ave & Charles St  40.743194 -74.003673   \n",
      "4    9 Ave & W 18 St  Greenwich Ave & Charles St  40.743251 -74.003636   \n",
      "\n",
      "     end_lat    end_lng  trip_count  \n",
      "0  40.735238 -74.000271         142  \n",
      "1  40.735238 -74.000271         142  \n",
      "2  40.735238 -74.000271         142  \n",
      "3  40.735238 -74.000271         142  \n",
      "4  40.735238 -74.000271         142  \n"
     ]
    }
   ],
   "source": [
    "# Columns to select from citibike_weather_df\n",
    "columns_weather = ['start_station_name', 'end_station_name', 'start_lat', 'start_lng', 'end_lat', 'end_lng']\n",
    "\n",
    "# Select the required columns and remove duplicates\n",
    "weather_data = citibike_weather_df[columns_weather].drop_duplicates()\n",
    "\n",
    "# Merge with trip counts from aggregated_df\n",
    "df_final = weather_data.merge(aggregated_df, on=['start_station_name', 'end_station_name'], how='inner')\n",
    "\n",
    "# Display the final DataFrame\n",
    "print(df_final.head())"
   ]
  },
  {
   "cell_type": "code",
   "execution_count": 16,
   "id": "c00620b0-0656-442e-9028-31603f8352aa",
   "metadata": {
    "tags": []
   },
   "outputs": [],
   "source": [
    "# Save the DataFrame to a CSV file\n",
    "df_final.to_csv('df_final_with_trip_counts.csv', index=False)"
   ]
  },
  {
   "cell_type": "markdown",
   "id": "0f1d392d-78da-45a1-b4d0-32107f1f9b02",
   "metadata": {},
   "source": [
    "### Plot the map"
   ]
  },
  {
   "cell_type": "code",
   "execution_count": 17,
   "id": "b614314a-776a-46f9-8579-3d88dede5e71",
   "metadata": {
    "tags": []
   },
   "outputs": [
    {
     "name": "stdout",
     "output_type": "stream",
     "text": [
      "User Guide: https://docs.kepler.gl/docs/keplergl-jupyter\n"
     ]
    },
    {
     "data": {
      "application/vnd.jupyter.widget-view+json": {
       "model_id": "cddbad85d06c442e979a6e3599b0e5d9",
       "version_major": 2,
       "version_minor": 0
      },
      "text/plain": [
       "KeplerGl(data={'data_1':                 start_station_name                end_station_name  start_lat  \\\n",
       "0   …"
      ]
     },
     "metadata": {},
     "output_type": "display_data"
    }
   ],
   "source": [
    "# Initialize an instance of a kepler.gl map with height and dataset\n",
    "map = KeplerGl(height=700, data={\"data_1\": df_final})\n",
    "\n",
    "# Display the map\n",
    "map\n"
   ]
  },
  {
   "cell_type": "code",
   "execution_count": 18,
   "id": "89147bc8-70bf-4af3-9b97-b974c0c429e7",
   "metadata": {},
   "outputs": [
    {
     "name": "stdout",
     "output_type": "stream",
     "text": [
      "1.5.1\n"
     ]
    }
   ],
   "source": [
    "import pandas as pd\n",
    "print(pd.__version__)\n"
   ]
  }
 ],
 "metadata": {
  "kernelspec": {
   "display_name": "Python (citibike)",
   "language": "python",
   "name": "citibike"
  },
  "language_info": {
   "codemirror_mode": {
    "name": "ipython",
    "version": 3
   },
   "file_extension": ".py",
   "mimetype": "text/x-python",
   "name": "python",
   "nbconvert_exporter": "python",
   "pygments_lexer": "ipython3",
   "version": "3.9.20"
  }
 },
 "nbformat": 4,
 "nbformat_minor": 5
}

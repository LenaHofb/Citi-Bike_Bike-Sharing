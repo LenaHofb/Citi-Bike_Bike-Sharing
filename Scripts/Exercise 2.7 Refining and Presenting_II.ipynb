{
 "cells": [
  {
   "cell_type": "markdown",
   "id": "862f03ee-4967-44f7-8bed-c9e7278cf0b3",
   "metadata": {},
   "source": [
    "## Exercise 2.7 - Refining and Presenting - Part II"
   ]
  },
  {
   "cell_type": "code",
   "execution_count": 1,
   "id": "f1e04d4f-71aa-4984-b1d9-f154e34f99fb",
   "metadata": {
    "tags": []
   },
   "outputs": [],
   "source": [
    "# Import Libraries\n",
    "import streamlit as st\n",
    "import pandas as pd\n",
    "import numpy as np\n",
    "import plotly.express as px\n",
    "from plotly.subplots import make_subplots\n",
    "import plotly.graph_objects as go\n",
    "import matplotlib.pyplot as plt\n",
    "from datetime import datetime as dt\n",
    "from streamlit_keplergl import keplergl_static"
   ]
  },
  {
   "cell_type": "markdown",
   "id": "3f7ae4f7-4936-41cc-ba84-2acd9fa1242f",
   "metadata": {},
   "source": [
    "### Wrangle Data"
   ]
  },
  {
   "cell_type": "code",
   "execution_count": 3,
   "id": "7b220566-0915-4721-807f-7ec722b8a258",
   "metadata": {
    "tags": []
   },
   "outputs": [],
   "source": [
    "# Load the dataset\n",
    "file_path = r\"C:\\Users\\north\\OneDrive\\Dokumente\\Career Foundry\\Data Visualization 2\\Citi-Bike_Bike-Sharing\\Scripts\\reduced_sample_dataset.csv\"\n",
    "df_reduced = pd.read_csv(file_path, low_memory=False)"
   ]
  },
  {
   "cell_type": "code",
   "execution_count": 5,
   "id": "b8d36cef-e114-420c-a830-619640374b8d",
   "metadata": {
    "tags": []
   },
   "outputs": [
    {
     "data": {
      "text/html": [
       "<div>\n",
       "<style scoped>\n",
       "    .dataframe tbody tr th:only-of-type {\n",
       "        vertical-align: middle;\n",
       "    }\n",
       "\n",
       "    .dataframe tbody tr th {\n",
       "        vertical-align: top;\n",
       "    }\n",
       "\n",
       "    .dataframe thead th {\n",
       "        text-align: right;\n",
       "    }\n",
       "</style>\n",
       "<table border=\"1\" class=\"dataframe\">\n",
       "  <thead>\n",
       "    <tr style=\"text-align: right;\">\n",
       "      <th></th>\n",
       "      <th>ride_id</th>\n",
       "      <th>rideable_type</th>\n",
       "      <th>start_station_name</th>\n",
       "      <th>end_station_name</th>\n",
       "      <th>start_lat</th>\n",
       "      <th>start_lng</th>\n",
       "      <th>end_lat</th>\n",
       "      <th>end_lng</th>\n",
       "      <th>member_casual</th>\n",
       "      <th>start_date</th>\n",
       "      <th>start_time</th>\n",
       "      <th>end_date</th>\n",
       "      <th>end_time</th>\n",
       "      <th>avg_temp</th>\n",
       "      <th>value</th>\n",
       "    </tr>\n",
       "  </thead>\n",
       "  <tbody>\n",
       "    <tr>\n",
       "      <th>0</th>\n",
       "      <td>A6E63DD2A259EA7E</td>\n",
       "      <td>electric_bike</td>\n",
       "      <td>W 106 St &amp; Central Park West</td>\n",
       "      <td>3 Ave &amp; E 71 St</td>\n",
       "      <td>40.798186</td>\n",
       "      <td>-73.960591</td>\n",
       "      <td>40.768737</td>\n",
       "      <td>-73.961199</td>\n",
       "      <td>member</td>\n",
       "      <td>2022-02-12</td>\n",
       "      <td>09:34:42.657000</td>\n",
       "      <td>2022-02-12</td>\n",
       "      <td>09:50:46.928000</td>\n",
       "      <td>11.8</td>\n",
       "      <td>1</td>\n",
       "    </tr>\n",
       "    <tr>\n",
       "      <th>1</th>\n",
       "      <td>3BB4B64E4115FE85</td>\n",
       "      <td>electric_bike</td>\n",
       "      <td>University Ave &amp; W Burnside Ave</td>\n",
       "      <td>W Fordham Rd &amp; Loring Pl N</td>\n",
       "      <td>40.855010</td>\n",
       "      <td>-73.910751</td>\n",
       "      <td>40.862950</td>\n",
       "      <td>-73.907410</td>\n",
       "      <td>casual</td>\n",
       "      <td>2022-02-25</td>\n",
       "      <td>15:03:02.883000</td>\n",
       "      <td>2022-02-25</td>\n",
       "      <td>15:22:21.571000</td>\n",
       "      <td>0.8</td>\n",
       "      <td>1</td>\n",
       "    </tr>\n",
       "    <tr>\n",
       "      <th>2</th>\n",
       "      <td>3447189EDAC314D1</td>\n",
       "      <td>electric_bike</td>\n",
       "      <td>W 89 St &amp; Columbus Ave</td>\n",
       "      <td>E 89 St &amp; 3 Ave</td>\n",
       "      <td>40.788221</td>\n",
       "      <td>-73.970416</td>\n",
       "      <td>40.780628</td>\n",
       "      <td>-73.952167</td>\n",
       "      <td>casual</td>\n",
       "      <td>2022-02-19</td>\n",
       "      <td>15:01:53.271000</td>\n",
       "      <td>2022-02-19</td>\n",
       "      <td>15:15:41.152000</td>\n",
       "      <td>0.1</td>\n",
       "      <td>1</td>\n",
       "    </tr>\n",
       "    <tr>\n",
       "      <th>3</th>\n",
       "      <td>08A710001A64DD4F</td>\n",
       "      <td>electric_bike</td>\n",
       "      <td>76 St &amp; 21 Ave</td>\n",
       "      <td>31 Ave &amp; Steinway St</td>\n",
       "      <td>40.770280</td>\n",
       "      <td>-73.893675</td>\n",
       "      <td>40.761149</td>\n",
       "      <td>-73.917007</td>\n",
       "      <td>casual</td>\n",
       "      <td>2022-02-12</td>\n",
       "      <td>13:45:36.266000</td>\n",
       "      <td>2022-02-12</td>\n",
       "      <td>13:54:34.116000</td>\n",
       "      <td>11.8</td>\n",
       "      <td>1</td>\n",
       "    </tr>\n",
       "    <tr>\n",
       "      <th>4</th>\n",
       "      <td>48AA6DFF9B77AD54</td>\n",
       "      <td>electric_bike</td>\n",
       "      <td>Carroll St &amp; 6 Ave</td>\n",
       "      <td>Front St &amp; Jay St</td>\n",
       "      <td>40.674089</td>\n",
       "      <td>-73.978728</td>\n",
       "      <td>40.702461</td>\n",
       "      <td>-73.986842</td>\n",
       "      <td>casual</td>\n",
       "      <td>2022-02-21</td>\n",
       "      <td>14:05:37.290000</td>\n",
       "      <td>2022-02-21</td>\n",
       "      <td>14:59:27.512000</td>\n",
       "      <td>4.1</td>\n",
       "      <td>1</td>\n",
       "    </tr>\n",
       "  </tbody>\n",
       "</table>\n",
       "</div>"
      ],
      "text/plain": [
       "            ride_id  rideable_type               start_station_name  \\\n",
       "0  A6E63DD2A259EA7E  electric_bike     W 106 St & Central Park West   \n",
       "1  3BB4B64E4115FE85  electric_bike  University Ave & W Burnside Ave   \n",
       "2  3447189EDAC314D1  electric_bike           W 89 St & Columbus Ave   \n",
       "3  08A710001A64DD4F  electric_bike                   76 St & 21 Ave   \n",
       "4  48AA6DFF9B77AD54  electric_bike               Carroll St & 6 Ave   \n",
       "\n",
       "             end_station_name  start_lat  start_lng    end_lat    end_lng  \\\n",
       "0             3 Ave & E 71 St  40.798186 -73.960591  40.768737 -73.961199   \n",
       "1  W Fordham Rd & Loring Pl N  40.855010 -73.910751  40.862950 -73.907410   \n",
       "2             E 89 St & 3 Ave  40.788221 -73.970416  40.780628 -73.952167   \n",
       "3        31 Ave & Steinway St  40.770280 -73.893675  40.761149 -73.917007   \n",
       "4           Front St & Jay St  40.674089 -73.978728  40.702461 -73.986842   \n",
       "\n",
       "  member_casual  start_date       start_time    end_date         end_time  \\\n",
       "0        member  2022-02-12  09:34:42.657000  2022-02-12  09:50:46.928000   \n",
       "1        casual  2022-02-25  15:03:02.883000  2022-02-25  15:22:21.571000   \n",
       "2        casual  2022-02-19  15:01:53.271000  2022-02-19  15:15:41.152000   \n",
       "3        casual  2022-02-12  13:45:36.266000  2022-02-12  13:54:34.116000   \n",
       "4        casual  2022-02-21  14:05:37.290000  2022-02-21  14:59:27.512000   \n",
       "\n",
       "   avg_temp  value  \n",
       "0      11.8      1  \n",
       "1       0.8      1  \n",
       "2       0.1      1  \n",
       "3      11.8      1  \n",
       "4       4.1      1  "
      ]
     },
     "execution_count": 5,
     "metadata": {},
     "output_type": "execute_result"
    }
   ],
   "source": [
    "df_reduced.head()"
   ]
  },
  {
   "cell_type": "code",
   "execution_count": 11,
   "id": "c73a7d2e-99fa-47e5-a7d0-3e5f8e95eabe",
   "metadata": {
    "tags": []
   },
   "outputs": [
    {
     "name": "stdout",
     "output_type": "stream",
     "text": [
      "File size of the dataset: 24.78 MB\n"
     ]
    }
   ],
   "source": [
    "import os\n",
    "file_path = r\"C:\\Users\\north\\OneDrive\\Dokumente\\Career Foundry\\Data Visualization 2\\Citi-Bike_Bike-Sharing\\Scripts\\reduced_sample_dataset.csv\"\n",
    "\n",
    "# Check the file size\n",
    "file_size = os.path.getsize(file_path) / (1024 * 1024)  # Convert bytes to MB\n",
    "print(f\"File size of the dataset: {file_size:.2f} MB\")\n"
   ]
  },
  {
   "cell_type": "markdown",
   "id": "16d7509a-ee09-4cc0-86c4-39f26715eafa",
   "metadata": {},
   "source": [
    "### Reduce the row count Part II (see Exercise 2.6 for Part I)"
   ]
  },
  {
   "cell_type": "code",
   "execution_count": 24,
   "id": "e7df015d-dd70-450f-ba16-27fab737468f",
   "metadata": {
    "tags": []
   },
   "outputs": [
    {
     "name": "stdout",
     "output_type": "stream",
     "text": [
      "Calculated sampling fraction: 0.9282\n"
     ]
    }
   ],
   "source": [
    "# Calculate the sampling fraction\n",
    "current_size_mb = 24.78\n",
    "target_size_mb = 23\n",
    "sampling_fraction = target_size_mb / current_size_mb\n",
    "print(f\"Calculated sampling fraction: {sampling_fraction:.4f}\")\n"
   ]
  },
  {
   "cell_type": "code",
   "execution_count": 26,
   "id": "e10d9ef4-8ab3-4da8-a061-694d09c0479e",
   "metadata": {
    "tags": []
   },
   "outputs": [],
   "source": [
    "# Set the sampling fraction\n",
    "target_fraction = 0.9282\n",
    "\n",
    "# Apply random sampling\n",
    "np.random.seed(32)  # Ensure reproducibility\n",
    "mask = np.random.rand(len(df_reduced)) <= target_fraction\n",
    "small_sample = df_reduced[mask]\n",
    "\n",
    "# Save the sampled dataset\n",
    "output_path = r\"C:\\Users\\north\\OneDrive\\Dokumente\\Career Foundry\\Data Visualization 2\\Citi-Bike_Bike-Sharing\\Scripts\\reduced_sample_dataset.csv\"\n",
    "small_sample.to_csv(output_path, index=False)\n"
   ]
  },
  {
   "cell_type": "code",
   "execution_count": 28,
   "id": "a68a6306-6fde-442c-8ee7-5d4123de1d7c",
   "metadata": {},
   "outputs": [
    {
     "name": "stdout",
     "output_type": "stream",
     "text": [
      "File size of the sampled dataset: 23.04 MB\n"
     ]
    }
   ],
   "source": [
    "# Check the file size of the sampled dataset\n",
    "file_size = os.path.getsize(output_path) / (1024 * 1024)  # Convert bytes to MB\n",
    "print(f\"File size of the sampled dataset: {file_size:.2f} MB\")\n"
   ]
  },
  {
   "cell_type": "code",
   "execution_count": null,
   "id": "b4d4cf1d-a975-45cc-b6f9-545dc879fcec",
   "metadata": {},
   "outputs": [],
   "source": []
  }
 ],
 "metadata": {
  "kernelspec": {
   "display_name": "Python (citibike)",
   "language": "python",
   "name": "citibike"
  },
  "language_info": {
   "codemirror_mode": {
    "name": "ipython",
    "version": 3
   },
   "file_extension": ".py",
   "mimetype": "text/x-python",
   "name": "python",
   "nbconvert_exporter": "python",
   "pygments_lexer": "ipython3",
   "version": "3.9.20"
  }
 },
 "nbformat": 4,
 "nbformat_minor": 5
}

{
 "cells": [
  {
   "cell_type": "markdown",
   "id": "862f03ee-4967-44f7-8bed-c9e7278cf0b3",
   "metadata": {},
   "source": [
    "## Exercise 2.7 - Refining and Presenting"
   ]
  },
  {
   "cell_type": "code",
   "execution_count": 2,
   "id": "f1e04d4f-71aa-4984-b1d9-f154e34f99fb",
   "metadata": {
    "tags": []
   },
   "outputs": [],
   "source": [
    "# Import Libraries\n",
    "import streamlit as st\n",
    "import pandas as pd\n",
    "import numpy as np\n",
    "import plotly.express as px\n",
    "from plotly.subplots import make_subplots\n",
    "import plotly.graph_objects as go\n",
    "import matplotlib.pyplot as plt\n",
    "from datetime import datetime as dt\n",
    "from streamlit_keplergl import keplergl_static"
   ]
  },
  {
   "cell_type": "markdown",
   "id": "3f7ae4f7-4936-41cc-ba84-2acd9fa1242f",
   "metadata": {},
   "source": [
    "### Wrangle Data"
   ]
  },
  {
   "cell_type": "code",
   "execution_count": 24,
   "id": "7b220566-0915-4721-807f-7ec722b8a258",
   "metadata": {
    "tags": []
   },
   "outputs": [],
   "source": [
    "# Load the dataset\n",
    "file_path = r\"C:\\Users\\north\\OneDrive\\Dokumente\\Career Foundry\\Data Visualization 2\\Citi-Bike_Bike-Sharing\\Data\\Prepared Data\\reduced_citibike_data.csv\"\n",
    "df_reduced = pd.read_csv(file_path, low_memory=False)"
   ]
  },
  {
   "cell_type": "code",
   "execution_count": 25,
   "id": "b8d36cef-e114-420c-a830-619640374b8d",
   "metadata": {
    "tags": []
   },
   "outputs": [
    {
     "data": {
      "text/html": [
       "<div>\n",
       "<style scoped>\n",
       "    .dataframe tbody tr th:only-of-type {\n",
       "        vertical-align: middle;\n",
       "    }\n",
       "\n",
       "    .dataframe tbody tr th {\n",
       "        vertical-align: top;\n",
       "    }\n",
       "\n",
       "    .dataframe thead th {\n",
       "        text-align: right;\n",
       "    }\n",
       "</style>\n",
       "<table border=\"1\" class=\"dataframe\">\n",
       "  <thead>\n",
       "    <tr style=\"text-align: right;\">\n",
       "      <th></th>\n",
       "      <th>ride_id</th>\n",
       "      <th>rideable_type</th>\n",
       "      <th>start_station_name</th>\n",
       "      <th>end_station_name</th>\n",
       "      <th>start_lat</th>\n",
       "      <th>start_lng</th>\n",
       "      <th>end_lat</th>\n",
       "      <th>end_lng</th>\n",
       "      <th>member_casual</th>\n",
       "      <th>start_date</th>\n",
       "      <th>start_time</th>\n",
       "      <th>end_date</th>\n",
       "      <th>end_time</th>\n",
       "      <th>avg_temp</th>\n",
       "      <th>value</th>\n",
       "    </tr>\n",
       "  </thead>\n",
       "  <tbody>\n",
       "    <tr>\n",
       "      <th>0</th>\n",
       "      <td>D19A7054FB54B3A7</td>\n",
       "      <td>classic_bike</td>\n",
       "      <td>W 47 St &amp; 6 Ave</td>\n",
       "      <td>E 40 St &amp; Park Ave</td>\n",
       "      <td>40.758397</td>\n",
       "      <td>-73.982550</td>\n",
       "      <td>40.750756</td>\n",
       "      <td>-73.978326</td>\n",
       "      <td>member</td>\n",
       "      <td>2022-02-09</td>\n",
       "      <td>20:19:12.956000</td>\n",
       "      <td>2022-02-09</td>\n",
       "      <td>20:25:12.364000</td>\n",
       "      <td>2.8</td>\n",
       "      <td>1</td>\n",
       "    </tr>\n",
       "    <tr>\n",
       "      <th>1</th>\n",
       "      <td>BB0F0088046CE29B</td>\n",
       "      <td>classic_bike</td>\n",
       "      <td>W 64 St &amp; Thelonious Monk Circle</td>\n",
       "      <td>12 Ave &amp; W 40 St</td>\n",
       "      <td>40.775160</td>\n",
       "      <td>-73.989187</td>\n",
       "      <td>40.760875</td>\n",
       "      <td>-74.002777</td>\n",
       "      <td>member</td>\n",
       "      <td>2022-02-02</td>\n",
       "      <td>08:01:42.723000</td>\n",
       "      <td>2022-02-02</td>\n",
       "      <td>08:13:37.861000</td>\n",
       "      <td>2.3</td>\n",
       "      <td>1</td>\n",
       "    </tr>\n",
       "    <tr>\n",
       "      <th>2</th>\n",
       "      <td>8233B55219437AEA</td>\n",
       "      <td>electric_bike</td>\n",
       "      <td>9 Ave &amp; W 18 St</td>\n",
       "      <td>Thompson St &amp; Bleecker St</td>\n",
       "      <td>40.743174</td>\n",
       "      <td>-74.003664</td>\n",
       "      <td>40.728401</td>\n",
       "      <td>-73.999688</td>\n",
       "      <td>member</td>\n",
       "      <td>2022-02-13</td>\n",
       "      <td>06:45:01.601000</td>\n",
       "      <td>2022-02-13</td>\n",
       "      <td>06:51:46.580000</td>\n",
       "      <td>2.8</td>\n",
       "      <td>1</td>\n",
       "    </tr>\n",
       "    <tr>\n",
       "      <th>3</th>\n",
       "      <td>6C3A2C3C30B99120</td>\n",
       "      <td>classic_bike</td>\n",
       "      <td>W 18 St &amp; 6 Ave</td>\n",
       "      <td>W 11 St &amp; 6 Ave</td>\n",
       "      <td>40.739713</td>\n",
       "      <td>-73.994564</td>\n",
       "      <td>40.735324</td>\n",
       "      <td>-73.998004</td>\n",
       "      <td>member</td>\n",
       "      <td>2022-02-08</td>\n",
       "      <td>14:24:48.239000</td>\n",
       "      <td>2022-02-08</td>\n",
       "      <td>14:31:00.748000</td>\n",
       "      <td>4.1</td>\n",
       "      <td>1</td>\n",
       "    </tr>\n",
       "    <tr>\n",
       "      <th>4</th>\n",
       "      <td>A484C2EC0D21FB17</td>\n",
       "      <td>classic_bike</td>\n",
       "      <td>McGuinness Blvd &amp; Eagle St</td>\n",
       "      <td>Greenpoint Ave &amp; Manhattan Ave</td>\n",
       "      <td>40.735550</td>\n",
       "      <td>-73.952840</td>\n",
       "      <td>40.730260</td>\n",
       "      <td>-73.953940</td>\n",
       "      <td>member</td>\n",
       "      <td>2022-02-18</td>\n",
       "      <td>19:29:38.590000</td>\n",
       "      <td>2022-02-18</td>\n",
       "      <td>20:22:57.018000</td>\n",
       "      <td>9.9</td>\n",
       "      <td>1</td>\n",
       "    </tr>\n",
       "  </tbody>\n",
       "</table>\n",
       "</div>"
      ],
      "text/plain": [
       "            ride_id  rideable_type                start_station_name  \\\n",
       "0  D19A7054FB54B3A7   classic_bike                   W 47 St & 6 Ave   \n",
       "1  BB0F0088046CE29B   classic_bike  W 64 St & Thelonious Monk Circle   \n",
       "2  8233B55219437AEA  electric_bike                   9 Ave & W 18 St   \n",
       "3  6C3A2C3C30B99120   classic_bike                   W 18 St & 6 Ave   \n",
       "4  A484C2EC0D21FB17   classic_bike        McGuinness Blvd & Eagle St   \n",
       "\n",
       "                 end_station_name  start_lat  start_lng    end_lat    end_lng  \\\n",
       "0              E 40 St & Park Ave  40.758397 -73.982550  40.750756 -73.978326   \n",
       "1                12 Ave & W 40 St  40.775160 -73.989187  40.760875 -74.002777   \n",
       "2       Thompson St & Bleecker St  40.743174 -74.003664  40.728401 -73.999688   \n",
       "3                 W 11 St & 6 Ave  40.739713 -73.994564  40.735324 -73.998004   \n",
       "4  Greenpoint Ave & Manhattan Ave  40.735550 -73.952840  40.730260 -73.953940   \n",
       "\n",
       "  member_casual  start_date       start_time    end_date         end_time  \\\n",
       "0        member  2022-02-09  20:19:12.956000  2022-02-09  20:25:12.364000   \n",
       "1        member  2022-02-02  08:01:42.723000  2022-02-02  08:13:37.861000   \n",
       "2        member  2022-02-13  06:45:01.601000  2022-02-13  06:51:46.580000   \n",
       "3        member  2022-02-08  14:24:48.239000  2022-02-08  14:31:00.748000   \n",
       "4        member  2022-02-18  19:29:38.590000  2022-02-18  20:22:57.018000   \n",
       "\n",
       "   avg_temp  value  \n",
       "0       2.8      1  \n",
       "1       2.3      1  \n",
       "2       2.8      1  \n",
       "3       4.1      1  \n",
       "4       9.9      1  "
      ]
     },
     "execution_count": 25,
     "metadata": {},
     "output_type": "execute_result"
    }
   ],
   "source": [
    "df_reduced.head()"
   ]
  },
  {
   "cell_type": "code",
   "execution_count": 26,
   "id": "c73a7d2e-99fa-47e5-a7d0-3e5f8e95eabe",
   "metadata": {
    "tags": []
   },
   "outputs": [
    {
     "name": "stdout",
     "output_type": "stream",
     "text": [
      "File size of the dataset: 797.61 MB\n"
     ]
    }
   ],
   "source": [
    "import os\n",
    "\n",
    "# Path to the dataset\n",
    "file_path = r\"C:\\Users\\north\\OneDrive\\Dokumente\\Career Foundry\\Data Visualization 2\\Citi-Bike_Bike-Sharing\\Data\\Prepared Data\\reduced_citibike_data.csv\"\n",
    "\n",
    "# Check the file size\n",
    "file_size = os.path.getsize(file_path) / (1024 * 1024)  # Convert bytes to MB\n",
    "print(f\"File size of the dataset: {file_size:.2f} MB\")\n"
   ]
  },
  {
   "cell_type": "markdown",
   "id": "16d7509a-ee09-4cc0-86c4-39f26715eafa",
   "metadata": {},
   "source": [
    "### Reduce the row count Part II (see Exercise 2.6 for Part I)"
   ]
  },
  {
   "cell_type": "code",
   "execution_count": 27,
   "id": "e7df015d-dd70-450f-ba16-27fab737468f",
   "metadata": {
    "tags": []
   },
   "outputs": [
    {
     "name": "stdout",
     "output_type": "stream",
     "text": [
      "Calculated sampling fraction: 0.0313\n"
     ]
    }
   ],
   "source": [
    "# Calculate the sampling fraction\n",
    "current_size_mb = 797.61\n",
    "target_size_mb = 25\n",
    "sampling_fraction = target_size_mb / current_size_mb\n",
    "print(f\"Calculated sampling fraction: {sampling_fraction:.4f}\")\n"
   ]
  },
  {
   "cell_type": "code",
   "execution_count": 30,
   "id": "e10d9ef4-8ab3-4da8-a061-694d09c0479e",
   "metadata": {
    "tags": []
   },
   "outputs": [],
   "source": [
    "# Set the sampling fraction\n",
    "target_fraction = 0.0310\n",
    "\n",
    "# Apply random sampling\n",
    "np.random.seed(32)  # Ensure reproducibility\n",
    "mask = np.random.rand(len(df_reduced)) <= target_fraction\n",
    "small_sample = df_reduced[mask]\n",
    "\n",
    "# Save the sampled dataset\n",
    "output_path = r\"C:\\Users\\north\\OneDrive\\Dokumente\\Career Foundry\\Data Visualization 2\\Citi-Bike_Bike-Sharing\\Data\\Prepared Data\\reduced_sample_dataset.csv\"\n",
    "small_sample.to_csv(output_path, index=False)\n"
   ]
  },
  {
   "cell_type": "code",
   "execution_count": 31,
   "id": "a68a6306-6fde-442c-8ee7-5d4123de1d7c",
   "metadata": {},
   "outputs": [
    {
     "name": "stdout",
     "output_type": "stream",
     "text": [
      "File size of the sampled dataset: 24.78 MB\n"
     ]
    }
   ],
   "source": [
    "# Check the file size of the sampled dataset\n",
    "file_size = os.path.getsize(output_path) / (1024 * 1024)  # Convert bytes to MB\n",
    "print(f\"File size of the sampled dataset: {file_size:.2f} MB\")\n"
   ]
  },
  {
   "cell_type": "code",
   "execution_count": null,
   "id": "b4d4cf1d-a975-45cc-b6f9-545dc879fcec",
   "metadata": {},
   "outputs": [],
   "source": []
  }
 ],
 "metadata": {
  "kernelspec": {
   "display_name": "Python (citibike)",
   "language": "python",
   "name": "citibike"
  },
  "language_info": {
   "codemirror_mode": {
    "name": "ipython",
    "version": 3
   },
   "file_extension": ".py",
   "mimetype": "text/x-python",
   "name": "python",
   "nbconvert_exporter": "python",
   "pygments_lexer": "ipython3",
   "version": "3.9.20"
  }
 },
 "nbformat": 4,
 "nbformat_minor": 5
}
